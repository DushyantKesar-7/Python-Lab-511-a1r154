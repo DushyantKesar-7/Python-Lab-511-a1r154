{
  "nbformat": 4,
  "nbformat_minor": 0,
  "metadata": {
    "colab": {
      "provenance": [],
      "authorship_tag": "ABX9TyMftDg/iRUks9BRgoPI/GJj",
      "include_colab_link": true
    },
    "kernelspec": {
      "name": "python3",
      "display_name": "Python 3"
    },
    "language_info": {
      "name": "python"
    }
  },
  "cells": [
    {
      "cell_type": "markdown",
      "metadata": {
        "id": "view-in-github",
        "colab_type": "text"
      },
      "source": [
        "<a href=\"https://colab.research.google.com/github/DushyantKesar-7/Python-Lab-511-a1r154/blob/main/PythonLab(511).ipynb\" target=\"_parent\"><img src=\"https://colab.research.google.com/assets/colab-badge.svg\" alt=\"Open In Colab\"/></a>"
      ]
    },
    {
      "cell_type": "code",
      "execution_count": null,
      "metadata": {
        "colab": {
          "base_uri": "https://localhost:8080/"
        },
        "id": "BEUfs4tojUTf",
        "outputId": "92646193-e015-4748-e8bf-cd9dc0a1dbe8"
      },
      "outputs": [
        {
          "output_type": "stream",
          "name": "stdout",
          "text": [
            "square of 45 is 91125\n"
          ]
        }
      ],
      "source": [
        "print(\"square of {} is {}\". format(45,45**3))"
      ]
    },
    {
      "cell_type": "code",
      "source": [
        "60//60"
      ],
      "metadata": {
        "colab": {
          "base_uri": "https://localhost:8080/"
        },
        "id": "RlsoJZTdo0KB",
        "outputId": "1662d663-40c4-4a94-d244-dc66aa13afd2"
      },
      "execution_count": null,
      "outputs": [
        {
          "output_type": "execute_result",
          "data": {
            "text/plain": [
              "1"
            ]
          },
          "metadata": {},
          "execution_count": 4
        }
      ]
    },
    {
      "cell_type": "code",
      "source": [
        "print(\"{} hours and {} min\". format(155689//60,155689%60))"
      ],
      "metadata": {
        "colab": {
          "base_uri": "https://localhost:8080/"
        },
        "id": "K_yAIJUUpBTC",
        "outputId": "626d4ddc-d046-472d-d22a-ea55749ad616"
      },
      "execution_count": null,
      "outputs": [
        {
          "output_type": "stream",
          "name": "stdout",
          "text": [
            "2594 hours and 49 min\n"
          ]
        }
      ]
    },
    {
      "cell_type": "code",
      "source": [
        "a = 155689"
      ],
      "metadata": {
        "id": "sx54FPo7o8yY"
      },
      "execution_count": null,
      "outputs": []
    },
    {
      "cell_type": "code",
      "source": [
        "print(\"{} days, {} hours and {} min\". format(((155689//60)%24),(155689//60),(155689%60)))"
      ],
      "metadata": {
        "colab": {
          "base_uri": "https://localhost:8080/"
        },
        "id": "wxbAEsPepHsw",
        "outputId": "a9056f36-9266-4250-dac8-6d86da11b9dc"
      },
      "execution_count": null,
      "outputs": [
        {
          "output_type": "stream",
          "name": "stdout",
          "text": [
            "2 days, 2594 hours and 49 min\n"
          ]
        }
      ]
    },
    {
      "cell_type": "code",
      "source": [
        "print(\"Days\")\n",
        "(155689//60)%24"
      ],
      "metadata": {
        "colab": {
          "base_uri": "https://localhost:8080/"
        },
        "id": "Y2hIlix-pGQs",
        "outputId": "476d6f33-93b8-424e-9e8e-78820a416c9b"
      },
      "execution_count": null,
      "outputs": [
        {
          "output_type": "stream",
          "name": "stdout",
          "text": [
            "Days\n"
          ]
        },
        {
          "output_type": "execute_result",
          "data": {
            "text/plain": [
              "2"
            ]
          },
          "metadata": {},
          "execution_count": 7
        }
      ]
    },
    {
      "cell_type": "code",
      "source": [
        "b = 7325"
      ],
      "metadata": {
        "id": "YoRh8A-rpGBx"
      },
      "execution_count": null,
      "outputs": []
    },
    {
      "cell_type": "code",
      "source": [
        "#days\n",
        "(7325//60)//24"
      ],
      "metadata": {
        "colab": {
          "base_uri": "https://localhost:8080/"
        },
        "id": "4Cb55vEdpVE1",
        "outputId": "28214a40-b721-4fd2-c9e2-5640d9714ea6"
      },
      "execution_count": null,
      "outputs": [
        {
          "output_type": "execute_result",
          "data": {
            "text/plain": [
              "5"
            ]
          },
          "metadata": {},
          "execution_count": 10
        }
      ]
    },
    {
      "cell_type": "code",
      "source": [
        "#hours\n",
        "(7325//60)%24"
      ],
      "metadata": {
        "colab": {
          "base_uri": "https://localhost:8080/"
        },
        "id": "qPhR2_k_pU80",
        "outputId": "59f123ba-bad6-42bb-f9f4-c69935411c3b"
      },
      "execution_count": null,
      "outputs": [
        {
          "output_type": "execute_result",
          "data": {
            "text/plain": [
              "2"
            ]
          },
          "metadata": {},
          "execution_count": 11
        }
      ]
    },
    {
      "cell_type": "code",
      "source": [
        "#mins\n",
        "(7325%60)"
      ],
      "metadata": {
        "colab": {
          "base_uri": "https://localhost:8080/"
        },
        "id": "ovp8d2m_pU1O",
        "outputId": "a8ca24df-82b1-4508-e74c-a6ab92c02b80"
      },
      "execution_count": null,
      "outputs": [
        {
          "output_type": "execute_result",
          "data": {
            "text/plain": [
              "5"
            ]
          },
          "metadata": {},
          "execution_count": 12
        }
      ]
    },
    {
      "cell_type": "code",
      "source": [
        "print(\"{} days, {} hours and {} min\" . format((7325//60)//24, (7325//60)%24, (7325%60)))"
      ],
      "metadata": {
        "colab": {
          "base_uri": "https://localhost:8080/"
        },
        "id": "HJYLtbZIphFR",
        "outputId": "f1664606-3cef-4939-e8e2-58fa8e14a3dc"
      },
      "execution_count": null,
      "outputs": [
        {
          "output_type": "stream",
          "name": "stdout",
          "text": [
            "5 days, 2 hours and 5 min\n"
          ]
        }
      ]
    },
    {
      "cell_type": "code",
      "source": [
        "c = 1457986"
      ],
      "metadata": {
        "id": "46TlY2WuphCZ"
      },
      "execution_count": null,
      "outputs": []
    },
    {
      "cell_type": "code",
      "source": [
        "#days\n",
        "(1457986//60//60)//24"
      ],
      "metadata": {
        "colab": {
          "base_uri": "https://localhost:8080/"
        },
        "id": "bzoW58Jbpg_i",
        "outputId": "81d83055-a243-4f3e-c381-670c69796936"
      },
      "execution_count": null,
      "outputs": [
        {
          "output_type": "execute_result",
          "data": {
            "text/plain": [
              "16"
            ]
          },
          "metadata": {},
          "execution_count": 15
        }
      ]
    },
    {
      "cell_type": "code",
      "source": [
        "#hours\n",
        "(1457986//60//60)%24"
      ],
      "metadata": {
        "colab": {
          "base_uri": "https://localhost:8080/"
        },
        "id": "54Fz9Kjipg8Z",
        "outputId": "8b152740-a31a-423d-bf11-b082d680b323"
      },
      "execution_count": null,
      "outputs": [
        {
          "output_type": "execute_result",
          "data": {
            "text/plain": [
              "20"
            ]
          },
          "metadata": {},
          "execution_count": 16
        }
      ]
    },
    {
      "cell_type": "code",
      "source": [
        "#mins\n",
        "(1457986//60)%60"
      ],
      "metadata": {
        "colab": {
          "base_uri": "https://localhost:8080/"
        },
        "id": "U06GY4QSpg50",
        "outputId": "666c1ae5-eece-482e-9958-f7637e855838"
      },
      "execution_count": null,
      "outputs": [
        {
          "output_type": "execute_result",
          "data": {
            "text/plain": [
              "59"
            ]
          },
          "metadata": {},
          "execution_count": 17
        }
      ]
    },
    {
      "cell_type": "code",
      "source": [
        "#secs\n",
        "(1457986%60)"
      ],
      "metadata": {
        "colab": {
          "base_uri": "https://localhost:8080/"
        },
        "id": "8TAs81j-pg1-",
        "outputId": "1d8c42a7-5846-466c-affb-1e9749c30492"
      },
      "execution_count": null,
      "outputs": [
        {
          "output_type": "execute_result",
          "data": {
            "text/plain": [
              "46"
            ]
          },
          "metadata": {},
          "execution_count": 18
        }
      ]
    },
    {
      "cell_type": "code",
      "source": [
        "1457986//60"
      ],
      "metadata": {
        "colab": {
          "base_uri": "https://localhost:8080/"
        },
        "id": "JhKc1MdQpgwj",
        "outputId": "f9968cb4-d229-47a5-d929-493fb4cf3d61"
      },
      "execution_count": null,
      "outputs": [
        {
          "output_type": "execute_result",
          "data": {
            "text/plain": [
              "24299"
            ]
          },
          "metadata": {},
          "execution_count": 19
        }
      ]
    },
    {
      "cell_type": "code",
      "source": [
        "print(\"{} days, {} hours, {} min and {} secs\" . format((1457986//60//60)//24,(1457986//60//60)%24, (1457986//60)%60, (1457986%60)))"
      ],
      "metadata": {
        "colab": {
          "base_uri": "https://localhost:8080/"
        },
        "id": "eQ2G0wwNpUoy",
        "outputId": "1c3a1648-6061-4ff2-e84c-ec2d5d002205"
      },
      "execution_count": null,
      "outputs": [
        {
          "output_type": "stream",
          "name": "stdout",
          "text": [
            "16 days, 20 hours, 59 min and 46 secs\n"
          ]
        }
      ]
    },
    {
      "cell_type": "code",
      "source": [
        "a=69\n",
        "b=88"
      ],
      "metadata": {
        "id": "mjbkQP38pUcN"
      },
      "execution_count": null,
      "outputs": []
    },
    {
      "cell_type": "markdown",
      "source": [],
      "metadata": {
        "id": "LcF4pNmspT7e"
      }
    },
    {
      "cell_type": "code",
      "source": [
        "print(a)\n",
        "print(b)"
      ],
      "metadata": {
        "colab": {
          "base_uri": "https://localhost:8080/"
        },
        "id": "x6bmqUlxqCS0",
        "outputId": "4bde607e-8906-462f-84f1-9442d18551a9"
      },
      "execution_count": null,
      "outputs": [
        {
          "output_type": "stream",
          "name": "stdout",
          "text": [
            "69\n",
            "88\n"
          ]
        }
      ]
    },
    {
      "cell_type": "code",
      "source": [
        "a"
      ],
      "metadata": {
        "colab": {
          "base_uri": "https://localhost:8080/"
        },
        "id": "WIqGMf4xqCQd",
        "outputId": "0ca56b82-f7d7-4d6a-ef13-1c0bf98e5027"
      },
      "execution_count": null,
      "outputs": [
        {
          "output_type": "execute_result",
          "data": {
            "text/plain": [
              "69"
            ]
          },
          "metadata": {},
          "execution_count": 23
        }
      ]
    },
    {
      "cell_type": "code",
      "source": [
        "b"
      ],
      "metadata": {
        "colab": {
          "base_uri": "https://localhost:8080/"
        },
        "id": "jYShq9XrqCPK",
        "outputId": "cac9faf2-b57c-42be-eb60-d3b55286d65d"
      },
      "execution_count": null,
      "outputs": [
        {
          "output_type": "execute_result",
          "data": {
            "text/plain": [
              "88"
            ]
          },
          "metadata": {},
          "execution_count": 24
        }
      ]
    },
    {
      "cell_type": "code",
      "source": [
        "a != b"
      ],
      "metadata": {
        "colab": {
          "base_uri": "https://localhost:8080/"
        },
        "id": "BcTphU-tqCM1",
        "outputId": "818f87d3-29f0-4f71-db02-f0f48a4ae64e"
      },
      "execution_count": null,
      "outputs": [
        {
          "output_type": "execute_result",
          "data": {
            "text/plain": [
              "True"
            ]
          },
          "metadata": {},
          "execution_count": 25
        }
      ]
    },
    {
      "cell_type": "code",
      "source": [
        "a == b"
      ],
      "metadata": {
        "colab": {
          "base_uri": "https://localhost:8080/"
        },
        "id": "Nnr-Djv_qCJ_",
        "outputId": "0f072b2e-011c-4cb3-cce9-380cdd5adee8"
      },
      "execution_count": null,
      "outputs": [
        {
          "output_type": "execute_result",
          "data": {
            "text/plain": [
              "False"
            ]
          },
          "metadata": {},
          "execution_count": 26
        }
      ]
    },
    {
      "cell_type": "code",
      "source": [
        "a < b"
      ],
      "metadata": {
        "colab": {
          "base_uri": "https://localhost:8080/"
        },
        "id": "s8D76WYiqCH3",
        "outputId": "3f0647fb-084d-4f02-fa70-d97d3b1cab41"
      },
      "execution_count": null,
      "outputs": [
        {
          "output_type": "execute_result",
          "data": {
            "text/plain": [
              "True"
            ]
          },
          "metadata": {},
          "execution_count": 27
        }
      ]
    },
    {
      "cell_type": "code",
      "source": [
        "a > b"
      ],
      "metadata": {
        "colab": {
          "base_uri": "https://localhost:8080/"
        },
        "id": "9nK9zjTSqCFh",
        "outputId": "70bfdf1e-6b8a-42a2-cf20-b0cb0c04153b"
      },
      "execution_count": null,
      "outputs": [
        {
          "output_type": "execute_result",
          "data": {
            "text/plain": [
              "False"
            ]
          },
          "metadata": {},
          "execution_count": 28
        }
      ]
    },
    {
      "cell_type": "code",
      "source": [
        "a <= b"
      ],
      "metadata": {
        "colab": {
          "base_uri": "https://localhost:8080/"
        },
        "id": "pLZPYUxVqCCt",
        "outputId": "f88ef526-c52b-458e-aa11-0069de1604c7"
      },
      "execution_count": null,
      "outputs": [
        {
          "output_type": "execute_result",
          "data": {
            "text/plain": [
              "True"
            ]
          },
          "metadata": {},
          "execution_count": 29
        }
      ]
    },
    {
      "cell_type": "code",
      "source": [
        "a >= b"
      ],
      "metadata": {
        "colab": {
          "base_uri": "https://localhost:8080/"
        },
        "id": "XbuyptCjqCAD",
        "outputId": "f07aaaa7-491c-4e8a-8995-3ac596fdf6f2"
      },
      "execution_count": null,
      "outputs": [
        {
          "output_type": "execute_result",
          "data": {
            "text/plain": [
              "False"
            ]
          },
          "metadata": {},
          "execution_count": 30
        }
      ]
    },
    {
      "cell_type": "markdown",
      "source": [
        "# *Variables*\n",
        "\n",
        "1.there is a logical length for variable name\n",
        "\n",
        "2. name must be starts with _ or text\n",
        "\n",
        "3. there is no spaces in the variable name\n",
        "\n",
        "4.not allow to use reserved keywords"
      ],
      "metadata": {
        "id": "vT0aUGa6rCIp"
      }
    },
    {
      "cell_type": "markdown",
      "source": [
        "# *Comparison* *Operators*\n",
        "1.> # greater than\n",
        "\n",
        "2.< # less than\n",
        "\n",
        "3.>= # more than equals to\n",
        "\n",
        "4.<= # less than equals to\n",
        "\n",
        "5.== # equals to\n",
        "\n",
        "6.!= # not equals to"
      ],
      "metadata": {
        "id": "8kqgTkgjl94f"
      }
    },
    {
      "cell_type": "markdown",
      "source": [
        "# *Data Types*\n",
        "\n",
        "int # it will read only whole numbers\n",
        "\n",
        "float # it will read both whole and decimal numbers\n",
        "\n",
        "str # whatever we mention in '' , \" \",\"\"\" \"\"\" called string\n",
        "\n",
        "bool # true (1) and false(0)\n"
      ],
      "metadata": {
        "id": "Z115Vm4omKst"
      }
    },
    {
      "cell_type": "code",
      "source": [
        "q = 77\n",
        "type(q)"
      ],
      "metadata": {
        "colab": {
          "base_uri": "https://localhost:8080/"
        },
        "id": "Ros474aeqB9P",
        "outputId": "f3f2c103-b900-4f92-a380-9360ae347050"
      },
      "execution_count": null,
      "outputs": [
        {
          "output_type": "execute_result",
          "data": {
            "text/plain": [
              "int"
            ]
          },
          "metadata": {},
          "execution_count": 31
        }
      ]
    },
    {
      "cell_type": "code",
      "source": [
        "w = 11.11\n",
        "type(w)"
      ],
      "metadata": {
        "colab": {
          "base_uri": "https://localhost:8080/"
        },
        "id": "pRRBer7IsIO0",
        "outputId": "a8c5301f-9b71-458e-c2b3-8dfe8ba18289"
      },
      "execution_count": null,
      "outputs": [
        {
          "output_type": "execute_result",
          "data": {
            "text/plain": [
              "float"
            ]
          },
          "metadata": {},
          "execution_count": 32
        }
      ]
    },
    {
      "cell_type": "code",
      "source": [
        "e = \"Daru\"\n",
        "type(e)"
      ],
      "metadata": {
        "colab": {
          "base_uri": "https://localhost:8080/"
        },
        "id": "5j6FuLr1sIHh",
        "outputId": "c86ed88e-ad87-42e1-e414-23cc2b2b8276"
      },
      "execution_count": null,
      "outputs": [
        {
          "output_type": "execute_result",
          "data": {
            "text/plain": [
              "str"
            ]
          },
          "metadata": {},
          "execution_count": 33
        }
      ]
    },
    {
      "cell_type": "code",
      "source": [
        "r = True\n",
        "type(r)"
      ],
      "metadata": {
        "colab": {
          "base_uri": "https://localhost:8080/"
        },
        "id": "ujM4QjqPsH-9",
        "outputId": "0ab8c77e-0c3b-4539-9d6d-d54e1cea7358"
      },
      "execution_count": null,
      "outputs": [
        {
          "output_type": "execute_result",
          "data": {
            "text/plain": [
              "bool"
            ]
          },
          "metadata": {},
          "execution_count": 34
        }
      ]
    },
    {
      "cell_type": "code",
      "source": [
        "t = \"143\"\n",
        "type(t)"
      ],
      "metadata": {
        "colab": {
          "base_uri": "https://localhost:8080/"
        },
        "id": "8Peg6RK-sF1J",
        "outputId": "71f54720-bad5-4142-e863-41467bed185f"
      },
      "execution_count": null,
      "outputs": [
        {
          "output_type": "execute_result",
          "data": {
            "text/plain": [
              "str"
            ]
          },
          "metadata": {},
          "execution_count": 35
        }
      ]
    },
    {
      "cell_type": "code",
      "source": [
        "y = 77.88\n",
        "type(y)"
      ],
      "metadata": {
        "colab": {
          "base_uri": "https://localhost:8080/"
        },
        "id": "ebVcbJNBsXLX",
        "outputId": "585243a6-cd97-47f1-faed-595b9d73f5f6"
      },
      "execution_count": null,
      "outputs": [
        {
          "output_type": "execute_result",
          "data": {
            "text/plain": [
              "float"
            ]
          },
          "metadata": {},
          "execution_count": 36
        }
      ]
    },
    {
      "cell_type": "markdown",
      "source": [
        "# User Input"
      ],
      "metadata": {
        "id": "T2PbIXE-sheH"
      }
    },
    {
      "cell_type": "code",
      "source": [
        "q = int(input())\n",
        "type(q)"
      ],
      "metadata": {
        "colab": {
          "base_uri": "https://localhost:8080/"
        },
        "id": "XOecnnwUj-LB",
        "outputId": "b38b0319-78df-41d2-aed2-4d68d95f573a"
      },
      "execution_count": null,
      "outputs": [
        {
          "name": "stdout",
          "output_type": "stream",
          "text": [
            "24\n"
          ]
        },
        {
          "output_type": "execute_result",
          "data": {
            "text/plain": [
              "int"
            ]
          },
          "metadata": {},
          "execution_count": 2
        }
      ]
    },
    {
      "cell_type": "markdown",
      "source": [
        "# String"
      ],
      "metadata": {
        "id": "EMpQJdp1stA-"
      }
    },
    {
      "cell_type": "markdown",
      "source": [
        "len(st)\n",
        "\n",
        "st.upper()\n",
        "\n",
        "st.lower()\n",
        "\n",
        "st.capitalize()\n",
        "\n",
        "st.title()\n",
        "\n",
        "st.removeprefix()\n",
        "\n",
        "st.removesuffix()\n",
        "\n",
        "st.split()"
      ],
      "metadata": {
        "id": "bTtn_8Lnl7Xl"
      }
    },
    {
      "cell_type": "code",
      "source": [
        "LOLU = \"There are many Assholes in the world but I don't know any of them\""
      ],
      "metadata": {
        "id": "LIr_dgFHsyhZ"
      },
      "execution_count": null,
      "outputs": []
    },
    {
      "cell_type": "code",
      "source": [
        "q1 extrect \"Assholes\" from the above string\n",
        "q2 extrect \"know any of\" from the above string\n",
        "q3 extrect \"world\" from the above string\n",
        "q4 extrect \"are many people in the\" from the above string"
      ],
      "metadata": {
        "id": "m8NtSY4esybD"
      },
      "execution_count": null,
      "outputs": []
    },
    {
      "cell_type": "code",
      "source": [
        "LOLU.find(\"Assholes\")"
      ],
      "metadata": {
        "colab": {
          "base_uri": "https://localhost:8080/"
        },
        "id": "-qAOlOgxsyW3",
        "outputId": "9927027c-d278-4553-8329-da5f615a6625"
      },
      "execution_count": null,
      "outputs": [
        {
          "output_type": "execute_result",
          "data": {
            "text/plain": [
              "15"
            ]
          },
          "metadata": {},
          "execution_count": 3
        }
      ]
    },
    {
      "cell_type": "code",
      "source": [
        "LOLU.count(\"1\")"
      ],
      "metadata": {
        "colab": {
          "base_uri": "https://localhost:8080/"
        },
        "id": "3KfOznAIsyTw",
        "outputId": "44ccf995-e703-45b8-a935-12625eb8651a"
      },
      "execution_count": null,
      "outputs": [
        {
          "output_type": "execute_result",
          "data": {
            "text/plain": [
              "14"
            ]
          },
          "metadata": {},
          "execution_count": 6
        }
      ]
    },
    {
      "cell_type": "code",
      "source": [
        "s = \"a the b the c the d the\""
      ],
      "metadata": {
        "id": "NFiNJpWLsyHR"
      },
      "execution_count": null,
      "outputs": []
    },
    {
      "cell_type": "code",
      "source": [
        "print(\"1st the is at : \", s.find(\"the\"))\n",
        "print(\"2nd the is at : \", s.find(\"the\",3))\n",
        "print(\"3rd the is at : \", s.find(\"the\",9))\n",
        "print(\"4th the is at : \", s.find(\"the\",15))"
      ],
      "metadata": {
        "colab": {
          "base_uri": "https://localhost:8080/"
        },
        "id": "PEOOe8y-lV-C",
        "outputId": "689c65f9-cdfd-463b-eccc-2ca9bdd6710a"
      },
      "execution_count": null,
      "outputs": [
        {
          "output_type": "stream",
          "name": "stdout",
          "text": [
            "1st the is at :  2\n",
            "2nd the is at :  8\n",
            "3rd the is at :  14\n",
            "4th the is at :  20\n"
          ]
        }
      ]
    },
    {
      "cell_type": "code",
      "source": [],
      "metadata": {
        "id": "E6poC-idlV6a"
      },
      "execution_count": null,
      "outputs": []
    },
    {
      "cell_type": "code",
      "source": [
        "Q1 Converte Python@gmail.com into PYTHON@GMAIL.COM\n",
        "Q2 Split all the words from the text\n",
        "Q3"
      ],
      "metadata": {
        "colab": {
          "base_uri": "https://localhost:8080/",
          "height": 108
        },
        "id": "tvLWyegflVy-",
        "outputId": "1c632c38-d3fb-4437-a4ae-86cf65fc0892"
      },
      "execution_count": null,
      "outputs": [
        {
          "output_type": "error",
          "ename": "SyntaxError",
          "evalue": "invalid syntax (<ipython-input-33-c3d7473b223e>, line 1)",
          "traceback": [
            "\u001b[0;36m  File \u001b[0;32m\"<ipython-input-33-c3d7473b223e>\"\u001b[0;36m, line \u001b[0;32m1\u001b[0m\n\u001b[0;31m    Q1 Converte Python@gmail.com into PYTHON@GMAIL.COM\u001b[0m\n\u001b[0m       ^\u001b[0m\n\u001b[0;31mSyntaxError\u001b[0m\u001b[0;31m:\u001b[0m invalid syntax\n"
          ]
        }
      ]
    },
    {
      "cell_type": "code",
      "source": [
        "w = \"Python@gmail.com\""
      ],
      "metadata": {
        "id": "LwNFyeoSlVqY"
      },
      "execution_count": null,
      "outputs": []
    },
    {
      "cell_type": "code",
      "source": [
        "w.find(\"Python@gmail.com\")"
      ],
      "metadata": {
        "colab": {
          "base_uri": "https://localhost:8080/"
        },
        "id": "ECy9N70vo2bU",
        "outputId": "91f368b5-fa56-4246-8e8e-a6af3f8a68be"
      },
      "execution_count": null,
      "outputs": [
        {
          "output_type": "execute_result",
          "data": {
            "text/plain": [
              "0"
            ]
          },
          "metadata": {},
          "execution_count": 29
        }
      ]
    },
    {
      "cell_type": "code",
      "source": [
        "w[0:16].upper()\n"
      ],
      "metadata": {
        "colab": {
          "base_uri": "https://localhost:8080/",
          "height": 35
        },
        "id": "tAiHO6WLo2Pc",
        "outputId": "421d4100-722f-4601-be52-0f0aaf81833f"
      },
      "execution_count": null,
      "outputs": [
        {
          "output_type": "execute_result",
          "data": {
            "text/plain": [
              "'PYTHON@GMAIL.COM'"
            ],
            "application/vnd.google.colaboratory.intrinsic+json": {
              "type": "string"
            }
          },
          "metadata": {},
          "execution_count": 31
        }
      ]
    },
    {
      "cell_type": "code",
      "source": [
        "w[0:16].split()"
      ],
      "metadata": {
        "colab": {
          "base_uri": "https://localhost:8080/"
        },
        "id": "x64xwh5Xo2DO",
        "outputId": "ffb68f01-94d0-448e-944f-244f90f0128d"
      },
      "execution_count": null,
      "outputs": [
        {
          "output_type": "execute_result",
          "data": {
            "text/plain": [
              "['Python@gmail.com']"
            ]
          },
          "metadata": {},
          "execution_count": 32
        }
      ]
    },
    {
      "cell_type": "code",
      "source": [
        "w.replace(\"Python@gmail.com\",\"PYTHON@GMAIL.COM\")"
      ],
      "metadata": {
        "colab": {
          "base_uri": "https://localhost:8080/",
          "height": 35
        },
        "id": "eKllrJKVo1y2",
        "outputId": "b7f1311c-a12d-4cf8-e945-83b1fd5271ef"
      },
      "execution_count": null,
      "outputs": [
        {
          "output_type": "execute_result",
          "data": {
            "text/plain": [
              "'PYTHON@GMAIL.COM'"
            ],
            "application/vnd.google.colaboratory.intrinsic+json": {
              "type": "string"
            }
          },
          "metadata": {},
          "execution_count": 34
        }
      ]
    },
    {
      "cell_type": "code",
      "source": [
        "u = \"Q1 Converte Python@gmail.com into PYTHON@GMAIL.COM\""
      ],
      "metadata": {
        "id": "fJN1u5IvqP--"
      },
      "execution_count": null,
      "outputs": []
    },
    {
      "cell_type": "code",
      "source": [
        "p = \"1234567890\""
      ],
      "metadata": {
        "id": "3bSMhw6rqP7k"
      },
      "execution_count": null,
      "outputs": []
    },
    {
      "cell_type": "code",
      "source": [
        "p[::-1]"
      ],
      "metadata": {
        "colab": {
          "base_uri": "https://localhost:8080/",
          "height": 35
        },
        "id": "Q9G1p12CqP5g",
        "outputId": "53a673fe-1d02-4f97-da2b-6fa607026212"
      },
      "execution_count": null,
      "outputs": [
        {
          "output_type": "execute_result",
          "data": {
            "text/plain": [
              "'0987654321'"
            ],
            "application/vnd.google.colaboratory.intrinsic+json": {
              "type": "string"
            }
          },
          "metadata": {},
          "execution_count": 37
        }
      ]
    },
    {
      "cell_type": "code",
      "source": [
        "p[1::2]"
      ],
      "metadata": {
        "colab": {
          "base_uri": "https://localhost:8080/",
          "height": 35
        },
        "id": "UtxuO1tXqP3b",
        "outputId": "618a652d-2502-41a3-b514-dca93a2f9966"
      },
      "execution_count": null,
      "outputs": [
        {
          "output_type": "execute_result",
          "data": {
            "text/plain": [
              "'24680'"
            ],
            "application/vnd.google.colaboratory.intrinsic+json": {
              "type": "string"
            }
          },
          "metadata": {},
          "execution_count": 39
        }
      ]
    },
    {
      "cell_type": "code",
      "source": [
        "p[1::-1]"
      ],
      "metadata": {
        "colab": {
          "base_uri": "https://localhost:8080/",
          "height": 35
        },
        "id": "qQxQVlBfqPx9",
        "outputId": "c0a04972-82d4-41e5-d399-f8937fe41705"
      },
      "execution_count": null,
      "outputs": [
        {
          "output_type": "execute_result",
          "data": {
            "text/plain": [
              "'21'"
            ],
            "application/vnd.google.colaboratory.intrinsic+json": {
              "type": "string"
            }
          },
          "metadata": {},
          "execution_count": 40
        }
      ]
    },
    {
      "cell_type": "markdown",
      "source": [
        "# List\n",
        "\n",
        "It is an ordered collection of elements"
      ],
      "metadata": {
        "id": "Y9oT1pP1cGC-"
      }
    },
    {
      "cell_type": "code",
      "source": [
        "w = [0,1,2,3,4,5,6,7,8,9]"
      ],
      "metadata": {
        "id": "HCWfsLXHqPvH"
      },
      "execution_count": null,
      "outputs": []
    },
    {
      "cell_type": "code",
      "source": [
        "w"
      ],
      "metadata": {
        "colab": {
          "base_uri": "https://localhost:8080/"
        },
        "id": "OOZ_3yPbqPr9",
        "outputId": "54c4d347-c47f-4487-f375-09f30f864592"
      },
      "execution_count": null,
      "outputs": [
        {
          "output_type": "execute_result",
          "data": {
            "text/plain": [
              "[0, 1, 2, 3, 4, 5, 6, 7, 8, 9]"
            ]
          },
          "metadata": {},
          "execution_count": 2
        }
      ]
    },
    {
      "cell_type": "code",
      "source": [
        "w.append(88)"
      ],
      "metadata": {
        "id": "m-B-Dop4qPow"
      },
      "execution_count": null,
      "outputs": []
    },
    {
      "cell_type": "code",
      "source": [
        "w"
      ],
      "metadata": {
        "colab": {
          "base_uri": "https://localhost:8080/"
        },
        "id": "aTJ3Deibcu2H",
        "outputId": "8c7e0c81-bde7-4d24-cad7-3d3f5cdf8378"
      },
      "execution_count": null,
      "outputs": [
        {
          "output_type": "execute_result",
          "data": {
            "text/plain": [
              "[0, 1, 2, 3, 4, 5, 6, 7, 8, 9, 88]"
            ]
          },
          "metadata": {},
          "execution_count": 4
        }
      ]
    },
    {
      "cell_type": "code",
      "source": [
        "q = [1,1.5,\"string\",True,[1,2,3,\"new\",False]]"
      ],
      "metadata": {
        "id": "LTyOQFb0cuz0"
      },
      "execution_count": null,
      "outputs": []
    },
    {
      "cell_type": "code",
      "source": [
        "q"
      ],
      "metadata": {
        "colab": {
          "base_uri": "https://localhost:8080/"
        },
        "id": "IyXjqStycuxP",
        "outputId": "034ff1b0-5f06-43ee-b220-40a56cda6671"
      },
      "execution_count": null,
      "outputs": [
        {
          "output_type": "execute_result",
          "data": {
            "text/plain": [
              "[1, 1.5, 'string', True, [1, 2, 3, 'new', False]]"
            ]
          },
          "metadata": {},
          "execution_count": 7
        }
      ]
    },
    {
      "cell_type": "code",
      "source": [
        "l1 =[11,11,66,77,88,69,143,342,33,10,2]"
      ],
      "metadata": {
        "id": "EUOLwgA6cust"
      },
      "execution_count": null,
      "outputs": []
    },
    {
      "cell_type": "code",
      "source": [
        "# print the number of elements\n",
        "\n",
        "len(l1)"
      ],
      "metadata": {
        "colab": {
          "base_uri": "https://localhost:8080/"
        },
        "id": "udByG9oAdiDE",
        "outputId": "8e16144f-5322-48af-f187-9a3dcf510072"
      },
      "execution_count": null,
      "outputs": [
        {
          "output_type": "execute_result",
          "data": {
            "text/plain": [
              "11"
            ]
          },
          "metadata": {},
          "execution_count": 12
        }
      ]
    },
    {
      "cell_type": "code",
      "source": [
        "# Count the number of given elements\n",
        "\n",
        "l1.count(11)"
      ],
      "metadata": {
        "colab": {
          "base_uri": "https://localhost:8080/"
        },
        "id": "dRirvLQhdiAW",
        "outputId": "d49e9728-3a77-447e-b63b-1dc8e4ca0ac7"
      },
      "execution_count": null,
      "outputs": [
        {
          "output_type": "execute_result",
          "data": {
            "text/plain": [
              "2"
            ]
          },
          "metadata": {},
          "execution_count": 13
        }
      ]
    },
    {
      "cell_type": "code",
      "source": [
        "# Add the given element in the end of the list\n",
        "l1.append(3000)"
      ],
      "metadata": {
        "id": "QpPRd7Btdh-B"
      },
      "execution_count": null,
      "outputs": []
    },
    {
      "cell_type": "code",
      "source": [
        "l1"
      ],
      "metadata": {
        "colab": {
          "base_uri": "https://localhost:8080/"
        },
        "id": "1utfv244dh7q",
        "outputId": "2eda3a8e-5ab7-47be-8956-60366bf5e9ff"
      },
      "execution_count": null,
      "outputs": [
        {
          "output_type": "execute_result",
          "data": {
            "text/plain": [
              "[11, 11, 66, 77, 88, 69, 143, 342, 33, 10, 2, 3000, 3000]"
            ]
          },
          "metadata": {},
          "execution_count": 17
        }
      ]
    },
    {
      "cell_type": "code",
      "source": [
        "# By default it print and remove the last element from the list\n",
        "l1.pop()"
      ],
      "metadata": {
        "colab": {
          "base_uri": "https://localhost:8080/"
        },
        "id": "p9tJWRMydh5h",
        "outputId": "b6518bb7-cbb6-4c64-f549-d1af2dc4969b"
      },
      "execution_count": null,
      "outputs": [
        {
          "output_type": "execute_result",
          "data": {
            "text/plain": [
              "3000"
            ]
          },
          "metadata": {},
          "execution_count": 18
        }
      ]
    },
    {
      "cell_type": "code",
      "source": [
        "l1"
      ],
      "metadata": {
        "colab": {
          "base_uri": "https://localhost:8080/"
        },
        "id": "LFHW4C6Odh2d",
        "outputId": "402012e5-a96c-4c90-b877-f5a501ed507c"
      },
      "execution_count": null,
      "outputs": [
        {
          "output_type": "execute_result",
          "data": {
            "text/plain": [
              "[11, 11, 66, 77, 88, 69, 143, 342, 33, 10, 2, 3000]"
            ]
          },
          "metadata": {},
          "execution_count": 19
        }
      ]
    },
    {
      "cell_type": "code",
      "source": [
        "# It print and remove the last element from the list\n",
        "l1.pop(11)"
      ],
      "metadata": {
        "colab": {
          "base_uri": "https://localhost:8080/"
        },
        "id": "POCzEfYpdhzf",
        "outputId": "711356df-260b-46fc-d5c5-ab364d404c13"
      },
      "execution_count": null,
      "outputs": [
        {
          "output_type": "execute_result",
          "data": {
            "text/plain": [
              "3000"
            ]
          },
          "metadata": {},
          "execution_count": 20
        }
      ]
    },
    {
      "cell_type": "code",
      "source": [
        "# It insert the given element on the given index\n",
        "# variables.insert(index,element)\n",
        "\n",
        "l1.insert(11,11)"
      ],
      "metadata": {
        "id": "EZALiCkicukX"
      },
      "execution_count": null,
      "outputs": []
    },
    {
      "cell_type": "code",
      "source": [
        "l1"
      ],
      "metadata": {
        "colab": {
          "base_uri": "https://localhost:8080/"
        },
        "id": "or6VWcuIfx7C",
        "outputId": "cb0049ad-e497-4db7-e0c8-2f52c7f7901d"
      },
      "execution_count": null,
      "outputs": [
        {
          "output_type": "execute_result",
          "data": {
            "text/plain": [
              "[11, 11, 66, 77, 88, 69, 143, 342, 33, 10, 2, 11]"
            ]
          },
          "metadata": {},
          "execution_count": 22
        }
      ]
    },
    {
      "cell_type": "code",
      "source": [
        "# It add more than one element in the end of the list\n",
        "\n",
        "l1.extend([66,69,88])"
      ],
      "metadata": {
        "id": "J7R4aoqafx4h"
      },
      "execution_count": null,
      "outputs": []
    },
    {
      "cell_type": "code",
      "source": [
        "l1"
      ],
      "metadata": {
        "colab": {
          "base_uri": "https://localhost:8080/"
        },
        "id": "SrVWD-FKfx1k",
        "outputId": "c1d20883-3bb9-431d-81a1-a4bd746c25d1"
      },
      "execution_count": null,
      "outputs": [
        {
          "output_type": "execute_result",
          "data": {
            "text/plain": [
              "[11, 11, 66, 77, 88, 69, 143, 342, 33, 10, 2, 11, 66, 69, 88]"
            ]
          },
          "metadata": {},
          "execution_count": 24
        }
      ]
    },
    {
      "cell_type": "code",
      "source": [
        "# It removes the given element\n",
        "\n",
        "l1.remove(69)"
      ],
      "metadata": {
        "id": "ZS2PjsPXfxyu"
      },
      "execution_count": null,
      "outputs": []
    },
    {
      "cell_type": "code",
      "source": [
        "l1"
      ],
      "metadata": {
        "colab": {
          "base_uri": "https://localhost:8080/"
        },
        "id": "ycnnK-b4fxu2",
        "outputId": "4db4b0d2-dd64-4cbd-cd05-6b7c5470feb6"
      },
      "execution_count": null,
      "outputs": [
        {
          "output_type": "execute_result",
          "data": {
            "text/plain": [
              "[11, 11, 66, 77, 88, 143, 342, 33, 10, 2, 11, 66, 69, 88]"
            ]
          },
          "metadata": {},
          "execution_count": 26
        }
      ]
    },
    {
      "cell_type": "code",
      "source": [
        "# It reverses the list\n",
        "\n",
        "l1.reverse()"
      ],
      "metadata": {
        "id": "FeIjs6E4fxon"
      },
      "execution_count": null,
      "outputs": []
    },
    {
      "cell_type": "code",
      "source": [
        "l1"
      ],
      "metadata": {
        "colab": {
          "base_uri": "https://localhost:8080/"
        },
        "id": "Kom3CPO3fxaB",
        "outputId": "6c3e4d2d-9b0b-418f-b062-bb341d3d2519"
      },
      "execution_count": null,
      "outputs": [
        {
          "output_type": "execute_result",
          "data": {
            "text/plain": [
              "[88, 69, 66, 11, 2, 10, 33, 342, 143, 88, 77, 66, 11, 11]"
            ]
          },
          "metadata": {},
          "execution_count": 28
        }
      ]
    },
    {
      "cell_type": "code",
      "source": [
        "# It sort the list in ascending order\n",
        "\n",
        "l1.sort()"
      ],
      "metadata": {
        "id": "idVjtBd1gk_e"
      },
      "execution_count": null,
      "outputs": []
    },
    {
      "cell_type": "code",
      "source": [
        "l1"
      ],
      "metadata": {
        "colab": {
          "base_uri": "https://localhost:8080/"
        },
        "id": "tl-5NIrigkzP",
        "outputId": "0e318fd1-7997-434d-ee2a-188b5bf2b551"
      },
      "execution_count": null,
      "outputs": [
        {
          "output_type": "execute_result",
          "data": {
            "text/plain": [
              "[2, 10, 11, 11, 11, 33, 66, 66, 69, 77, 88, 88, 143, 342]"
            ]
          },
          "metadata": {},
          "execution_count": 30
        }
      ]
    },
    {
      "cell_type": "code",
      "source": [
        "# It sort the list in descending order\n",
        "\n",
        "l1.sort(reverse=True)"
      ],
      "metadata": {
        "id": "8yO_7rgAgkxB"
      },
      "execution_count": null,
      "outputs": []
    },
    {
      "cell_type": "code",
      "source": [
        "l1"
      ],
      "metadata": {
        "colab": {
          "base_uri": "https://localhost:8080/"
        },
        "id": "RXJW_DpEgkuo",
        "outputId": "43da0ed1-9147-4851-d1bc-8d3d8f8cb63d"
      },
      "execution_count": null,
      "outputs": [
        {
          "output_type": "execute_result",
          "data": {
            "text/plain": [
              "[342, 143, 88, 88, 77, 69, 66, 66, 33, 11, 11, 11, 10, 2]"
            ]
          },
          "metadata": {},
          "execution_count": 32
        }
      ]
    },
    {
      "cell_type": "code",
      "source": [
        "# It prints the index value of the given element\n",
        "\n",
        "l1.index(66)"
      ],
      "metadata": {
        "colab": {
          "base_uri": "https://localhost:8080/"
        },
        "id": "XBkCK5eBgksP",
        "outputId": "529af20d-4627-4644-c532-bdb47c01f0cd"
      },
      "execution_count": null,
      "outputs": [
        {
          "output_type": "execute_result",
          "data": {
            "text/plain": [
              "6"
            ]
          },
          "metadata": {},
          "execution_count": 38
        }
      ]
    },
    {
      "cell_type": "code",
      "source": [
        "# It prints the index value of the given element\n",
        "\n",
        "l1.index(66,7)"
      ],
      "metadata": {
        "colab": {
          "base_uri": "https://localhost:8080/"
        },
        "id": "4QsknlYggkp1",
        "outputId": "d8922103-304e-4117-a34c-fef8c5e8c01f"
      },
      "execution_count": null,
      "outputs": [
        {
          "output_type": "execute_result",
          "data": {
            "text/plain": [
              "7"
            ]
          },
          "metadata": {},
          "execution_count": 40
        }
      ]
    },
    {
      "cell_type": "code",
      "source": [
        "# It remove all the elements from the list\n",
        "\n",
        "l1.clear()"
      ],
      "metadata": {
        "id": "RNcaorN8gknj"
      },
      "execution_count": null,
      "outputs": []
    },
    {
      "cell_type": "code",
      "source": [
        "# To make a copy of the list\n",
        "\n",
        "l1.copy()\n",
        "A = l1.copy()"
      ],
      "metadata": {
        "id": "i_RArF9Egkld"
      },
      "execution_count": null,
      "outputs": []
    },
    {
      "cell_type": "code",
      "source": [
        "A"
      ],
      "metadata": {
        "colab": {
          "base_uri": "https://localhost:8080/"
        },
        "id": "LLc27w2-gkii",
        "outputId": "b90b39f4-439d-4b4b-efe3-883399386f07"
      },
      "execution_count": null,
      "outputs": [
        {
          "output_type": "execute_result",
          "data": {
            "text/plain": [
              "[342, 143, 88, 88, 77, 69, 66, 66, 33, 11, 11, 11, 10, 2]"
            ]
          },
          "metadata": {},
          "execution_count": 42
        }
      ]
    },
    {
      "cell_type": "code",
      "source": [
        "q"
      ],
      "metadata": {
        "colab": {
          "base_uri": "https://localhost:8080/"
        },
        "id": "q2XeJj6PgkgA",
        "outputId": "c15d2e79-a00e-4131-b96a-476f135f1cae"
      },
      "execution_count": null,
      "outputs": [
        {
          "output_type": "execute_result",
          "data": {
            "text/plain": [
              "[1, 1.5, 'string', True, [1, 2, 3, 'new', False]]"
            ]
          },
          "metadata": {},
          "execution_count": 43
        }
      ]
    },
    {
      "cell_type": "code",
      "source": [
        "q[3] = 88"
      ],
      "metadata": {
        "id": "Cb-JD7kjgkcL"
      },
      "execution_count": null,
      "outputs": []
    },
    {
      "cell_type": "code",
      "source": [
        "q"
      ],
      "metadata": {
        "colab": {
          "base_uri": "https://localhost:8080/"
        },
        "id": "mf51MsN9jVg8",
        "outputId": "0cfee91e-67e7-47a7-f926-7aa0bf5991bf"
      },
      "execution_count": null,
      "outputs": [
        {
          "output_type": "execute_result",
          "data": {
            "text/plain": [
              "[1, 1.5, 'string', 88, 88, [1, 2, 3, 'new', False], 3]"
            ]
          },
          "metadata": {},
          "execution_count": 53
        }
      ]
    },
    {
      "cell_type": "code",
      "source": [
        "q.insert(3,89)"
      ],
      "metadata": {
        "id": "2evPBTijjVej"
      },
      "execution_count": null,
      "outputs": []
    },
    {
      "cell_type": "code",
      "source": [
        "q"
      ],
      "metadata": {
        "colab": {
          "base_uri": "https://localhost:8080/"
        },
        "id": "Ezz9rdXAjVcR",
        "outputId": "a146dc61-560f-4fe0-d7ec-5965ddb693cd"
      },
      "execution_count": null,
      "outputs": [
        {
          "output_type": "execute_result",
          "data": {
            "text/plain": [
              "[1, 1.5, 'string', 89, 88, [1, 2, 3, 'new', False], 3]"
            ]
          },
          "metadata": {},
          "execution_count": 51
        }
      ]
    },
    {
      "cell_type": "code",
      "source": [
        "q.pop()"
      ],
      "metadata": {
        "colab": {
          "base_uri": "https://localhost:8080/"
        },
        "id": "GDmaGNjUjVV9",
        "outputId": "b33b0b86-8a15-4836-82f5-258e783dbfae"
      },
      "execution_count": null,
      "outputs": [
        {
          "output_type": "execute_result",
          "data": {
            "text/plain": [
              "3"
            ]
          },
          "metadata": {},
          "execution_count": 54
        }
      ]
    },
    {
      "cell_type": "code",
      "source": [
        "q"
      ],
      "metadata": {
        "colab": {
          "base_uri": "https://localhost:8080/"
        },
        "id": "sIvYVIEijVTG",
        "outputId": "e7101dc8-a3d4-4f21-c485-e8ac7fa676c2"
      },
      "execution_count": null,
      "outputs": [
        {
          "output_type": "execute_result",
          "data": {
            "text/plain": [
              "[1, 1.5, 'string', 88, 88, [1, 2, 3, 'new', False]]"
            ]
          },
          "metadata": {},
          "execution_count": 55
        }
      ]
    },
    {
      "cell_type": "code",
      "source": [
        "q"
      ],
      "metadata": {
        "id": "uCFQ6xT3j6qX"
      },
      "execution_count": null,
      "outputs": []
    },
    {
      "cell_type": "code",
      "source": [
        "# variable[start:stop:step]\n"
      ],
      "metadata": {
        "id": "4a-joQpAjzf8"
      },
      "execution_count": null,
      "outputs": []
    },
    {
      "cell_type": "code",
      "source": [
        "q[-1]"
      ],
      "metadata": {
        "colab": {
          "base_uri": "https://localhost:8080/"
        },
        "id": "WO5c42u8jzeJ",
        "outputId": "6ee5b749-6814-4be6-a3c9-e7c10ecf54de"
      },
      "execution_count": null,
      "outputs": [
        {
          "output_type": "execute_result",
          "data": {
            "text/plain": [
              "[1, 2, 3, 'new', False]"
            ]
          },
          "metadata": {},
          "execution_count": 57
        }
      ]
    },
    {
      "cell_type": "code",
      "source": [
        "q[-1][3]"
      ],
      "metadata": {
        "colab": {
          "base_uri": "https://localhost:8080/",
          "height": 35
        },
        "id": "CSdK4WQ0jzcd",
        "outputId": "fceb2bda-9d38-465e-da03-6020aecd592d"
      },
      "execution_count": null,
      "outputs": [
        {
          "output_type": "execute_result",
          "data": {
            "text/plain": [
              "'new'"
            ],
            "application/vnd.google.colaboratory.intrinsic+json": {
              "type": "string"
            }
          },
          "metadata": {},
          "execution_count": 58
        }
      ]
    },
    {
      "cell_type": "code",
      "source": [
        "q[-1][3][2]"
      ],
      "metadata": {
        "colab": {
          "base_uri": "https://localhost:8080/",
          "height": 35
        },
        "id": "TreQDHs-jzat",
        "outputId": "f9dbf4c5-6483-43fa-f37c-ec7e1dd1900e"
      },
      "execution_count": null,
      "outputs": [
        {
          "output_type": "execute_result",
          "data": {
            "text/plain": [
              "'w'"
            ],
            "application/vnd.google.colaboratory.intrinsic+json": {
              "type": "string"
            }
          },
          "metadata": {},
          "execution_count": 61
        }
      ]
    },
    {
      "cell_type": "code",
      "source": [
        "q[5][3] = 77"
      ],
      "metadata": {
        "id": "gQrbk-fvjzY8"
      },
      "execution_count": null,
      "outputs": []
    },
    {
      "cell_type": "code",
      "source": [
        "q"
      ],
      "metadata": {
        "colab": {
          "base_uri": "https://localhost:8080/"
        },
        "id": "qrkBxjaEjzW5",
        "outputId": "6c65dae6-f4cf-4d78-da34-9cc1f1a568e7"
      },
      "execution_count": null,
      "outputs": [
        {
          "output_type": "execute_result",
          "data": {
            "text/plain": [
              "[1, 1.5, 66, 88, 88, [1, 2, 3, 77, False]]"
            ]
          },
          "metadata": {},
          "execution_count": 70
        }
      ]
    },
    {
      "cell_type": "code",
      "source": [
        "q[2] = 66"
      ],
      "metadata": {
        "id": "g7rPv1CdjzVP"
      },
      "execution_count": null,
      "outputs": []
    },
    {
      "cell_type": "code",
      "source": [
        "q"
      ],
      "metadata": {
        "colab": {
          "base_uri": "https://localhost:8080/"
        },
        "id": "zodh6hEijzS8",
        "outputId": "5a2190b2-92fc-494f-efe0-958df0b0ea8a"
      },
      "execution_count": null,
      "outputs": [
        {
          "output_type": "execute_result",
          "data": {
            "text/plain": [
              "[1, 1.5, 66, 88, 88, [1, 2, 3, 77, False]]"
            ]
          },
          "metadata": {},
          "execution_count": 67
        }
      ]
    },
    {
      "cell_type": "code",
      "source": [
        "r =[4,5,7,[4,2,0,3,5,\"Todey\",4],478,\"string\"]"
      ],
      "metadata": {
        "id": "fLBdbyrbjzQR"
      },
      "execution_count": null,
      "outputs": []
    },
    {
      "cell_type": "code",
      "source": [
        "r[3][-2].replace('e','a')"
      ],
      "metadata": {
        "colab": {
          "base_uri": "https://localhost:8080/",
          "height": 35
        },
        "id": "UnecpPISjzIg",
        "outputId": "286f61b4-d0ba-47ac-fc22-646670977d00"
      },
      "execution_count": null,
      "outputs": [
        {
          "output_type": "execute_result",
          "data": {
            "text/plain": [
              "'Today'"
            ],
            "application/vnd.google.colaboratory.intrinsic+json": {
              "type": "string"
            }
          },
          "metadata": {},
          "execution_count": 79
        }
      ]
    },
    {
      "cell_type": "code",
      "source": [
        "r[3][5] = r[3][5].replace('e','a')"
      ],
      "metadata": {
        "id": "OQlCgjNFsblG"
      },
      "execution_count": null,
      "outputs": []
    },
    {
      "cell_type": "code",
      "source": [
        "r"
      ],
      "metadata": {
        "colab": {
          "base_uri": "https://localhost:8080/"
        },
        "id": "1ZdRfcm-sbhp",
        "outputId": "c79c49c5-25ac-419d-b874-dc5d36918d78"
      },
      "execution_count": null,
      "outputs": [
        {
          "output_type": "execute_result",
          "data": {
            "text/plain": [
              "[4, 5, 7, [4, 2, 0, 3, 5, 'Today', 4], 478, 'string']"
            ]
          },
          "metadata": {},
          "execution_count": 81
        }
      ]
    },
    {
      "cell_type": "code",
      "source": [
        "e = (1,2,3,4,'string',5,5)"
      ],
      "metadata": {
        "id": "lv40t5gulLuH"
      },
      "execution_count": null,
      "outputs": []
    },
    {
      "cell_type": "code",
      "source": [
        "e.count('string')"
      ],
      "metadata": {
        "colab": {
          "base_uri": "https://localhost:8080/"
        },
        "id": "_V6dQ3WylLsB",
        "outputId": "9d993d18-0520-444c-82ed-78afd6cafbc3"
      },
      "execution_count": null,
      "outputs": [
        {
          "output_type": "execute_result",
          "data": {
            "text/plain": [
              "1"
            ]
          },
          "metadata": {},
          "execution_count": 5
        }
      ]
    },
    {
      "cell_type": "code",
      "source": [
        "e.index(5)"
      ],
      "metadata": {
        "colab": {
          "base_uri": "https://localhost:8080/"
        },
        "id": "7QTfzw9GlLp-",
        "outputId": "46049806-4731-4e87-b2cf-2b2131b90682"
      },
      "execution_count": null,
      "outputs": [
        {
          "output_type": "execute_result",
          "data": {
            "text/plain": [
              "5"
            ]
          },
          "metadata": {},
          "execution_count": 6
        }
      ]
    },
    {
      "cell_type": "code",
      "source": [
        "type(e)"
      ],
      "metadata": {
        "colab": {
          "base_uri": "https://localhost:8080/"
        },
        "id": "s891lTSilLoI",
        "outputId": "518c85e6-f7be-444e-ec95-0711b4436d96"
      },
      "execution_count": null,
      "outputs": [
        {
          "output_type": "execute_result",
          "data": {
            "text/plain": [
              "tuple"
            ]
          },
          "metadata": {},
          "execution_count": 7
        }
      ]
    },
    {
      "cell_type": "markdown",
      "source": [
        "# SET"
      ],
      "metadata": {
        "id": "nrJuSyA1lnli"
      }
    },
    {
      "cell_type": "code",
      "source": [
        "s=set()"
      ],
      "metadata": {
        "id": "S5I_7jyclLlQ"
      },
      "execution_count": null,
      "outputs": []
    },
    {
      "cell_type": "code",
      "source": [
        "type(s)"
      ],
      "metadata": {
        "colab": {
          "base_uri": "https://localhost:8080/"
        },
        "id": "Zlx4kHzIlLjC",
        "outputId": "611aa1a1-34e4-4bd8-92e0-eefa25ab9745"
      },
      "execution_count": null,
      "outputs": [
        {
          "output_type": "execute_result",
          "data": {
            "text/plain": [
              "set"
            ]
          },
          "metadata": {},
          "execution_count": 10
        }
      ]
    },
    {
      "cell_type": "code",
      "source": [
        "s={4,5,6,3,2,8,9,11,7}\n",
        "q={2,4,6,8,10}"
      ],
      "metadata": {
        "id": "UaxEQCLXikJb"
      },
      "execution_count": null,
      "outputs": []
    },
    {
      "cell_type": "code",
      "source": [
        "s"
      ],
      "metadata": {
        "colab": {
          "base_uri": "https://localhost:8080/"
        },
        "id": "w4S2mBa1l_Qm",
        "outputId": "d6b03eb9-0d4f-47b2-8a31-3f9ad4969d36"
      },
      "execution_count": null,
      "outputs": [
        {
          "output_type": "execute_result",
          "data": {
            "text/plain": [
              "{2, 3, 4, 5, 6, 7, 8, 9, 11}"
            ]
          },
          "metadata": {},
          "execution_count": 15
        }
      ]
    },
    {
      "cell_type": "code",
      "source": [
        "\n",
        "q"
      ],
      "metadata": {
        "colab": {
          "base_uri": "https://localhost:8080/"
        },
        "id": "qw7etWBWl-cN",
        "outputId": "01b1eb96-8e25-49b6-dc20-eadaa0016412"
      },
      "execution_count": null,
      "outputs": [
        {
          "output_type": "execute_result",
          "data": {
            "text/plain": [
              "{2, 4, 6, 8, 10}"
            ]
          },
          "metadata": {},
          "execution_count": 14
        }
      ]
    },
    {
      "cell_type": "code",
      "source": [
        "s.difference(q)"
      ],
      "metadata": {
        "colab": {
          "base_uri": "https://localhost:8080/"
        },
        "id": "koD38AK6mLG3",
        "outputId": "ad9f6d89-4071-48bd-b14e-bac838edf28f"
      },
      "execution_count": null,
      "outputs": [
        {
          "output_type": "execute_result",
          "data": {
            "text/plain": [
              "{3, 5, 7, 9, 11}"
            ]
          },
          "metadata": {},
          "execution_count": 16
        }
      ]
    },
    {
      "cell_type": "code",
      "source": [
        "s.intersection(q)"
      ],
      "metadata": {
        "colab": {
          "base_uri": "https://localhost:8080/"
        },
        "id": "vSXCR6ilmLDw",
        "outputId": "452fad90-3f28-4389-b8fb-6daa5389bda5"
      },
      "execution_count": null,
      "outputs": [
        {
          "output_type": "execute_result",
          "data": {
            "text/plain": [
              "{2, 4, 6, 8}"
            ]
          },
          "metadata": {},
          "execution_count": 17
        }
      ]
    },
    {
      "cell_type": "code",
      "source": [
        "s.pop()"
      ],
      "metadata": {
        "colab": {
          "base_uri": "https://localhost:8080/"
        },
        "id": "ug8YpLiomLAc",
        "outputId": "311d8918-0280-474f-f25f-e1bfa09fecd6"
      },
      "execution_count": null,
      "outputs": [
        {
          "output_type": "execute_result",
          "data": {
            "text/plain": [
              "2"
            ]
          },
          "metadata": {},
          "execution_count": 18
        }
      ]
    },
    {
      "cell_type": "code",
      "source": [
        "s.symmetric_difference(q)"
      ],
      "metadata": {
        "colab": {
          "base_uri": "https://localhost:8080/"
        },
        "id": "eBxeWAG9ma5i",
        "outputId": "9b5f57f3-eb00-4b26-c753-eb3bc2f524f3"
      },
      "execution_count": null,
      "outputs": [
        {
          "output_type": "execute_result",
          "data": {
            "text/plain": [
              "{2, 3, 5, 7, 9, 10, 11}"
            ]
          },
          "metadata": {},
          "execution_count": 20
        }
      ]
    },
    {
      "cell_type": "code",
      "source": [
        "q.union(s)"
      ],
      "metadata": {
        "colab": {
          "base_uri": "https://localhost:8080/"
        },
        "id": "CTg66iqunBkI",
        "outputId": "4253b2f9-2ccc-4381-ff50-f305d2a5683d"
      },
      "execution_count": null,
      "outputs": [
        {
          "output_type": "execute_result",
          "data": {
            "text/plain": [
              "{2, 3, 4, 5, 6, 7, 8, 9, 10, 11}"
            ]
          },
          "metadata": {},
          "execution_count": 21
        }
      ]
    },
    {
      "cell_type": "code",
      "source": [
        "q.update()"
      ],
      "metadata": {
        "id": "ltefwrxema0V"
      },
      "execution_count": null,
      "outputs": []
    },
    {
      "cell_type": "code",
      "source": [
        "q"
      ],
      "metadata": {
        "colab": {
          "base_uri": "https://localhost:8080/"
        },
        "id": "tvHuEB4enrOD",
        "outputId": "388fb912-9b8f-44dc-89bb-1616305a8182"
      },
      "execution_count": null,
      "outputs": [
        {
          "output_type": "execute_result",
          "data": {
            "text/plain": [
              "{2, 4, 6, 8, 10}"
            ]
          },
          "metadata": {},
          "execution_count": 27
        }
      ]
    },
    {
      "cell_type": "code",
      "source": [
        "q.discard(s)"
      ],
      "metadata": {
        "id": "TC0vre5XnS0D"
      },
      "execution_count": null,
      "outputs": []
    },
    {
      "cell_type": "code",
      "source": [
        "q"
      ],
      "metadata": {
        "colab": {
          "base_uri": "https://localhost:8080/"
        },
        "id": "p9uMDfyfnssD",
        "outputId": "78853806-cbfe-4370-f961-0c6426e96f6a"
      },
      "execution_count": null,
      "outputs": [
        {
          "output_type": "execute_result",
          "data": {
            "text/plain": [
              "{2, 4, 6, 8, 10}"
            ]
          },
          "metadata": {},
          "execution_count": 29
        }
      ]
    },
    {
      "cell_type": "code",
      "source": [
        "q1 = {1,2,3,4,5,6,7,500,600}\n",
        "q2 = {11,22,33,44,4,5,6,9,500}"
      ],
      "metadata": {
        "id": "gZv36jlwij-N"
      },
      "execution_count": null,
      "outputs": []
    },
    {
      "cell_type": "code",
      "source": [
        "# it will print the unique element of the lest set\n",
        "q1.difference(q2)"
      ],
      "metadata": {
        "colab": {
          "base_uri": "https://localhost:8080/"
        },
        "id": "R1m-q4Bcij14",
        "outputId": "3c5dc80a-b1a1-4300-cdfd-033ed513d893"
      },
      "execution_count": null,
      "outputs": [
        {
          "output_type": "execute_result",
          "data": {
            "text/plain": [
              "{1, 2, 3, 7, 600}"
            ]
          },
          "metadata": {},
          "execution_count": 2
        }
      ]
    },
    {
      "cell_type": "code",
      "source": [
        "q2.difference(q1)"
      ],
      "metadata": {
        "colab": {
          "base_uri": "https://localhost:8080/"
        },
        "id": "GKiFtqD2ijvZ",
        "outputId": "c73ffc8f-1f6a-443e-ebf0-f99203b6bf25"
      },
      "execution_count": null,
      "outputs": [
        {
          "output_type": "execute_result",
          "data": {
            "text/plain": [
              "{9, 11, 22, 33, 44}"
            ]
          },
          "metadata": {},
          "execution_count": 3
        }
      ]
    },
    {
      "cell_type": "code",
      "source": [
        "q1.union() # add new set"
      ],
      "metadata": {
        "id": "-0FQTu6Bii-K"
      },
      "execution_count": null,
      "outputs": []
    },
    {
      "cell_type": "code",
      "source": [],
      "metadata": {
        "id": "Y7sHZH97ii3o"
      },
      "execution_count": null,
      "outputs": []
    },
    {
      "cell_type": "markdown",
      "source": [
        "# dist\n",
        "\n",
        "it is a pair of keys and values"
      ],
      "metadata": {
        "id": "tejwDWQYpPE4"
      }
    },
    {
      "cell_type": "code",
      "source": [
        "s ={}"
      ],
      "metadata": {
        "id": "_YP-0wEEiiys"
      },
      "execution_count": null,
      "outputs": []
    },
    {
      "cell_type": "code",
      "source": [
        "type(s)"
      ],
      "metadata": {
        "colab": {
          "base_uri": "https://localhost:8080/"
        },
        "id": "tD4sS1U5iirZ",
        "outputId": "7cb6238b-3c66-40c1-882f-cbbd6e6bac2d"
      },
      "execution_count": null,
      "outputs": [
        {
          "output_type": "execute_result",
          "data": {
            "text/plain": [
              "dict"
            ]
          },
          "metadata": {},
          "execution_count": 31
        }
      ]
    },
    {
      "cell_type": "code",
      "source": [
        "d = {\"name\" : [\"a\",\"b\",\"c\"],\n",
        "     \"age\" :[20,22,28,30]}"
      ],
      "metadata": {
        "id": "ugTEnERMsbf2"
      },
      "execution_count": null,
      "outputs": []
    },
    {
      "cell_type": "code",
      "source": [
        "d"
      ],
      "metadata": {
        "colab": {
          "base_uri": "https://localhost:8080/"
        },
        "id": "fkfg03n6qKl8",
        "outputId": "c8863cbf-7b8f-4bbd-9668-ab86c1b8b357"
      },
      "execution_count": null,
      "outputs": [
        {
          "output_type": "execute_result",
          "data": {
            "text/plain": [
              "{'name': ['a', 'b', 'c'], 'age': [20, 22, 28, 30]}"
            ]
          },
          "metadata": {},
          "execution_count": 33
        }
      ]
    },
    {
      "cell_type": "code",
      "source": [
        "d1 = {\"name\" : (\"a\",\"b\",\"c\"),\n",
        "     \"age\" :(20,22,28,30)}"
      ],
      "metadata": {
        "id": "0tbsQ2wZsbdt"
      },
      "execution_count": null,
      "outputs": []
    },
    {
      "cell_type": "code",
      "source": [
        "d [\"name\"][0] = \"d\""
      ],
      "metadata": {
        "id": "4gVGFMOmsbbm"
      },
      "execution_count": null,
      "outputs": []
    },
    {
      "cell_type": "code",
      "source": [
        "d"
      ],
      "metadata": {
        "id": "Olo21YLysbY3",
        "colab": {
          "base_uri": "https://localhost:8080/"
        },
        "outputId": "6cc6bcfa-0d49-4b46-b6c3-30985bc6967b"
      },
      "execution_count": null,
      "outputs": [
        {
          "output_type": "execute_result",
          "data": {
            "text/plain": [
              "{'name': ['d', 'b', 'c'], 'age': [20, 22, 28, 30]}"
            ]
          },
          "metadata": {},
          "execution_count": 41
        }
      ]
    },
    {
      "cell_type": "code",
      "source": [
        "# to print the"
      ],
      "metadata": {
        "id": "tt1KogwEsbWh"
      },
      "execution_count": null,
      "outputs": []
    },
    {
      "cell_type": "code",
      "source": [],
      "metadata": {
        "id": "TKuJa5Awq_XJ"
      },
      "execution_count": null,
      "outputs": []
    },
    {
      "cell_type": "code",
      "source": [
        "d[\"name\"][0]"
      ],
      "metadata": {
        "colab": {
          "base_uri": "https://localhost:8080/",
          "height": 35
        },
        "id": "bNKZnYdOq_VH",
        "outputId": "05f93037-727f-4fcf-d061-c0673944a73d"
      },
      "execution_count": null,
      "outputs": [
        {
          "output_type": "execute_result",
          "data": {
            "text/plain": [
              "'d'"
            ],
            "application/vnd.google.colaboratory.intrinsic+json": {
              "type": "string"
            }
          },
          "metadata": {},
          "execution_count": 42
        }
      ]
    },
    {
      "cell_type": "code",
      "source": [
        "d[\"name\"].append(\"d\")"
      ],
      "metadata": {
        "id": "yhaP-syFq_Ol"
      },
      "execution_count": null,
      "outputs": []
    },
    {
      "cell_type": "code",
      "source": [
        "d[\"name\"]"
      ],
      "metadata": {
        "colab": {
          "base_uri": "https://localhost:8080/"
        },
        "id": "i2Ddk6Smq_KA",
        "outputId": "e51563ce-d896-4c5a-d88d-b27feab37bc2"
      },
      "execution_count": null,
      "outputs": [
        {
          "output_type": "execute_result",
          "data": {
            "text/plain": [
              "['d', 'b', 'c', 'd']"
            ]
          },
          "metadata": {},
          "execution_count": 44
        }
      ]
    },
    {
      "cell_type": "code",
      "source": [
        "d"
      ],
      "metadata": {
        "colab": {
          "base_uri": "https://localhost:8080/"
        },
        "id": "KBJjXhE0q_BV",
        "outputId": "a357291c-de53-4630-cf5b-0509c9302329"
      },
      "execution_count": null,
      "outputs": [
        {
          "output_type": "execute_result",
          "data": {
            "text/plain": [
              "{'name': ['d', 'b', 'c', 'd'], 'age': [20, 22, 28, 30]}"
            ]
          },
          "metadata": {},
          "execution_count": 45
        }
      ]
    },
    {
      "cell_type": "code",
      "source": [],
      "metadata": {
        "id": "901gBtH7tE-L"
      },
      "execution_count": null,
      "outputs": []
    },
    {
      "cell_type": "code",
      "source": [
        "w = {\"Id\" : ['2022a1r001','2022a1r002','2022a1r003','2022a1r004','2022a1r005','2022a1r006','2022a1r007'],\n",
        "    \"Location\" : [\"Domana\",\"Muthi\",\"Rehari\",\"Chungi\",\"Kacchi Chawni\",\"Nagrota\",\"Janipur\"],\n",
        "     \"Job\" : [\"DS\",\"Prof\",\"HR\",\"Director\",\"Principal\",\"CEO\",\"Enterprenuere\"]}"
      ],
      "metadata": {
        "id": "uLocVyuoq-6x"
      },
      "execution_count": null,
      "outputs": []
    },
    {
      "cell_type": "code",
      "source": [
        "w = [\"Location\"][1:3] = []"
      ],
      "metadata": {
        "id": "9tkKay3Nq-4M"
      },
      "execution_count": null,
      "outputs": []
    },
    {
      "cell_type": "code",
      "source": [
        "r={\"ID\" :[1442,1442,1443,1444,1445],\n",
        "   \"JOB\" :[\"HR\",\"Manager\",\"CA\",\"CS\"]}"
      ],
      "metadata": {
        "id": "uL8vydhyhBIE"
      },
      "execution_count": null,
      "outputs": []
    },
    {
      "cell_type": "code",
      "source": [
        "print(r.values())"
      ],
      "metadata": {
        "colab": {
          "base_uri": "https://localhost:8080/"
        },
        "id": "EzgIGq7RhA6M",
        "outputId": "27ed90c7-cf8f-4e4c-c319-4338793513d0"
      },
      "execution_count": null,
      "outputs": [
        {
          "output_type": "stream",
          "name": "stdout",
          "text": [
            "dict_values([[1442, 1442, 1443, 1444, 1445], ['HR', 'Manager', 'CA', 'CS']])\n"
          ]
        }
      ]
    },
    {
      "cell_type": "code",
      "source": [
        "print(type(r[\"ID\"]))"
      ],
      "metadata": {
        "colab": {
          "base_uri": "https://localhost:8080/"
        },
        "id": "o-y7TyY5hA32",
        "outputId": "f62a9520-466d-4dbc-f36f-173729f2cbf3"
      },
      "execution_count": null,
      "outputs": [
        {
          "output_type": "stream",
          "name": "stdout",
          "text": [
            "<class 'list'>\n"
          ]
        }
      ]
    },
    {
      "cell_type": "code",
      "source": [
        "r[\"ID\"].append(1446)"
      ],
      "metadata": {
        "id": "K2KlsvyDhA1f"
      },
      "execution_count": null,
      "outputs": []
    },
    {
      "cell_type": "code",
      "source": [
        "r"
      ],
      "metadata": {
        "colab": {
          "base_uri": "https://localhost:8080/"
        },
        "id": "iHKKYoRDhAzb",
        "outputId": "f8de2e63-9ba1-4c6c-ac70-fae4b6eb4d26"
      },
      "execution_count": null,
      "outputs": [
        {
          "output_type": "execute_result",
          "data": {
            "text/plain": [
              "{'ID': [1442, 1442, 1443, 1444, 1445, 1446],\n",
              " 'JOB': ['HR', 'Manager', 'CA', 'CS']}"
            ]
          },
          "metadata": {},
          "execution_count": 6
        }
      ]
    },
    {
      "cell_type": "code",
      "source": [
        "print(1,r)"
      ],
      "metadata": {
        "colab": {
          "base_uri": "https://localhost:8080/"
        },
        "id": "2EEcqJ0yhAwz",
        "outputId": "675d7d57-ee6f-4b6e-f41e-1910653508f9"
      },
      "execution_count": null,
      "outputs": [
        {
          "output_type": "stream",
          "name": "stdout",
          "text": [
            "1 {'ID': [1442, 1442, 1443, 1444, 1445, 1446], 'JOB': ['HR', 'Manager', 'CA', 'CS']}\n"
          ]
        }
      ]
    },
    {
      "cell_type": "code",
      "source": [
        "r[\"ID\"].insert(0,1440)"
      ],
      "metadata": {
        "id": "UC4fHtkGhAuN"
      },
      "execution_count": null,
      "outputs": []
    },
    {
      "cell_type": "code",
      "source": [
        "r"
      ],
      "metadata": {
        "colab": {
          "base_uri": "https://localhost:8080/"
        },
        "id": "NxFCcx2ohAq0",
        "outputId": "97d74506-4d2a-48c5-e1df-da6e1097d474"
      },
      "execution_count": null,
      "outputs": [
        {
          "output_type": "execute_result",
          "data": {
            "text/plain": [
              "{'ID': [1440, 1442, 1442, 1443, 1444, 1445, 1446],\n",
              " 'JOB': ['HR', 'Manager', 'CA', 'CS']}"
            ]
          },
          "metadata": {},
          "execution_count": 9
        }
      ]
    },
    {
      "cell_type": "code",
      "source": [
        "print(2,r)"
      ],
      "metadata": {
        "id": "mgHC26sbq-1E",
        "colab": {
          "base_uri": "https://localhost:8080/"
        },
        "outputId": "3243624f-f2b9-42e3-8f14-9f3ff589e05c"
      },
      "execution_count": null,
      "outputs": [
        {
          "output_type": "stream",
          "name": "stdout",
          "text": [
            "2 {'ID': [1440, 1442, 1442, 1443, 1444, 1445, 1446], 'JOB': ['HR', 'Manager', 'CA', 'CS']}\n"
          ]
        }
      ]
    },
    {
      "cell_type": "code",
      "source": [
        "r[\"ID\"][0]=1000\n",
        "r"
      ],
      "metadata": {
        "colab": {
          "base_uri": "https://localhost:8080/"
        },
        "id": "os9lrHnXi6wZ",
        "outputId": "7a317fd4-ca58-41fb-fe97-5d764cc4ba70"
      },
      "execution_count": null,
      "outputs": [
        {
          "output_type": "execute_result",
          "data": {
            "text/plain": [
              "{'ID': [1000, 1442, 1442, 1443, 1444, 1445, 1446],\n",
              " 'JOB': ['HR', 'Manager', 'CA', 'CS']}"
            ]
          },
          "metadata": {},
          "execution_count": 12
        }
      ]
    },
    {
      "cell_type": "code",
      "source": [
        "print(3,r)"
      ],
      "metadata": {
        "colab": {
          "base_uri": "https://localhost:8080/"
        },
        "id": "hgaY0IBdi6uY",
        "outputId": "a8e50104-99c4-4b5d-da0f-843848c47301"
      },
      "execution_count": null,
      "outputs": [
        {
          "output_type": "stream",
          "name": "stdout",
          "text": [
            "3 {'ID': [1000, 1442, 1442, 1443, 1444, 1445, 1446], 'JOB': ['HR', 'Manager', 'CA', 'CS']}\n"
          ]
        }
      ]
    },
    {
      "cell_type": "code",
      "source": [
        "r[\"ID\"].pop()\n",
        "r"
      ],
      "metadata": {
        "colab": {
          "base_uri": "https://localhost:8080/"
        },
        "id": "uhm3bgWLi6sf",
        "outputId": "962c754d-40b0-421c-e4c3-cf75b44b4a8f"
      },
      "execution_count": null,
      "outputs": [
        {
          "output_type": "execute_result",
          "data": {
            "text/plain": [
              "{'ID': [1000, 1442, 1442, 1443, 1444, 1445],\n",
              " 'JOB': ['HR', 'Manager', 'CA', 'CS']}"
            ]
          },
          "metadata": {},
          "execution_count": 14
        }
      ]
    },
    {
      "cell_type": "code",
      "source": [
        "print(4,r)"
      ],
      "metadata": {
        "colab": {
          "base_uri": "https://localhost:8080/"
        },
        "id": "snbKvPAti6qZ",
        "outputId": "1c25d70d-cf03-458a-9835-0ead6d960ce3"
      },
      "execution_count": null,
      "outputs": [
        {
          "output_type": "stream",
          "name": "stdout",
          "text": [
            "4 {'ID': [1000, 1442, 1442, 1443, 1444, 1445], 'JOB': ['HR', 'Manager', 'CA', 'CS']}\n"
          ]
        }
      ]
    },
    {
      "cell_type": "code",
      "source": [
        "print(round(len(r[\"ID\"])/2+.1))"
      ],
      "metadata": {
        "colab": {
          "base_uri": "https://localhost:8080/"
        },
        "id": "5YJJvavgi6ok",
        "outputId": "39a25683-ee4c-477e-a124-31130e65bb48"
      },
      "execution_count": null,
      "outputs": [
        {
          "output_type": "stream",
          "name": "stdout",
          "text": [
            "3\n"
          ]
        }
      ]
    },
    {
      "cell_type": "code",
      "source": [
        "r[\"ID\"].pop(3)"
      ],
      "metadata": {
        "colab": {
          "base_uri": "https://localhost:8080/"
        },
        "id": "cP2e01vvi6mz",
        "outputId": "7f1a7e27-1a05-4655-fce1-523218584484"
      },
      "execution_count": null,
      "outputs": [
        {
          "output_type": "execute_result",
          "data": {
            "text/plain": [
              "1443"
            ]
          },
          "metadata": {},
          "execution_count": 18
        }
      ]
    },
    {
      "cell_type": "code",
      "source": [
        "print(4,r)"
      ],
      "metadata": {
        "colab": {
          "base_uri": "https://localhost:8080/"
        },
        "id": "nyKMyEdgi6hU",
        "outputId": "853bb245-b2c8-40f7-8e4e-77a7308846fa"
      },
      "execution_count": null,
      "outputs": [
        {
          "output_type": "stream",
          "name": "stdout",
          "text": [
            "4 {'ID': [1000, 1442, 1442, 1444, 1445], 'JOB': ['HR', 'Manager', 'CA', 'CS']}\n"
          ]
        }
      ]
    },
    {
      "cell_type": "markdown",
      "source": [
        "# *Conditonal Statements*\n",
        "\n",
        "### *SYNTAX*\n",
        "\n",
        "if condition1:\n",
        "\n",
        "    print(\"Statement 1\")\n",
        "    \n",
        "  elif condition 2:\n",
        "\n",
        "    print(\"Statement 2\")\n",
        "\n",
        "  elif condition 3:\n",
        "\n",
        "    print(\"Statement 3\")\n",
        "\n",
        "  else :\n",
        "\n",
        "    print(\"Last_Statement\")"
      ],
      "metadata": {
        "id": "hyLyWAPQkEVh"
      }
    },
    {
      "cell_type": "code",
      "source": [
        "# Sample Question\n",
        "\n",
        "x=float(input(\"Enter the Number : \"))\n",
        "if x>0:\n",
        "  print(x,\"is positive\")\n",
        "elif x==0 :\n",
        "  print(x, \" is Zero\")\n",
        "else :\n",
        "  print(x,\" is Negative\")\n",
        "\n"
      ],
      "metadata": {
        "colab": {
          "base_uri": "https://localhost:8080/"
        },
        "id": "8SQ8wtcIi6fu",
        "outputId": "28a62f12-eb22-4e63-87c5-16a2c4601a62"
      },
      "execution_count": null,
      "outputs": [
        {
          "output_type": "stream",
          "name": "stdout",
          "text": [
            "Enter the Number : 20\n",
            "20.0 is positive\n"
          ]
        }
      ]
    },
    {
      "cell_type": "code",
      "source": [
        "# Q2. Check if NUM is more than 20 or less than 20 or equals to 20\n",
        "# Cond. 1\n",
        "NUM=float(input(\"Enter the Number : \"))\n",
        "if NUM>20:\n",
        "  print(NUM,\" is Greater than 20\")\n",
        "elif NUM==20 :\n",
        "  print(NUM, \" is Equals to 20\")\n",
        "else :\n",
        "  print(NUM,\" is Smaller than 20\")"
      ],
      "metadata": {
        "colab": {
          "base_uri": "https://localhost:8080/"
        },
        "id": "f3X_kEk6i6dp",
        "outputId": "affd917d-ed64-4307-fb0f-f18639249562"
      },
      "execution_count": null,
      "outputs": [
        {
          "output_type": "stream",
          "name": "stdout",
          "text": [
            "Enter the Number : 77\n",
            "77.0  is Greater than 20\n"
          ]
        }
      ]
    },
    {
      "cell_type": "code",
      "source": [
        "# Cond. 2\n",
        "\n",
        "NUM=float(input(\"Enter the Number : \"))\n",
        "if NUM>20:\n",
        "  print(NUM,\" is Greater than 20\")\n",
        "elif NUM==20 :\n",
        "  print(NUM, \" is Equals to 20\")\n",
        "else :\n",
        "  print(NUM,\" is Smaller than 20\")"
      ],
      "metadata": {
        "colab": {
          "base_uri": "https://localhost:8080/"
        },
        "id": "dwllhfX5o23V",
        "outputId": "b5b075ff-2848-4185-888b-aae2024cd61d"
      },
      "execution_count": null,
      "outputs": [
        {
          "output_type": "stream",
          "name": "stdout",
          "text": [
            "Enter the Number : 20\n",
            "20.0  is Equals to 20\n"
          ]
        }
      ]
    },
    {
      "cell_type": "code",
      "source": [
        "# Cond. 3\n",
        "\n",
        "NUM=float(input(\"Enter the Number : \"))\n",
        "if NUM>20:\n",
        "  print(NUM,\" is Greater than 20\")\n",
        "elif NUM==20 :\n",
        "  print(NUM, \" is Equals to 20\")\n",
        "else :\n",
        "  print(NUM,\" is Smaller than 20\")"
      ],
      "metadata": {
        "colab": {
          "base_uri": "https://localhost:8080/"
        },
        "id": "RBbnrU1SpCsV",
        "outputId": "fba33c99-3c7f-43c8-f96e-b8fb88f6a129"
      },
      "execution_count": null,
      "outputs": [
        {
          "output_type": "stream",
          "name": "stdout",
          "text": [
            "Enter the Number : 11\n",
            "11.0  is Smaller than 20\n"
          ]
        }
      ]
    },
    {
      "cell_type": "code",
      "source": [
        "# Q1. Check if NUM is even or Odd\n",
        "\n",
        "# Cond. 1\n",
        "\n",
        "NUM=float(input(\"Enter the Number : \"))\n",
        "if NUM%2==0:\n",
        "  x = NUM**3\n",
        "  print(\"{}is the cube of {} cause it is Even\".format(x,NUM))\n",
        "\n",
        "else :\n",
        "  x = NUM**2\n",
        "  print(\"{}is the Square of {} cause it is Odd\".format(x,NUM))\n"
      ],
      "metadata": {
        "colab": {
          "base_uri": "https://localhost:8080/"
        },
        "id": "QnxENJpenw_C",
        "outputId": "2f293a1b-3925-4b13-90ba-dfa62672483c"
      },
      "execution_count": null,
      "outputs": [
        {
          "output_type": "stream",
          "name": "stdout",
          "text": [
            "Enter the Number : 66\n",
            "287496.0is the cube of 66.0 cause it is Even\n"
          ]
        }
      ]
    },
    {
      "cell_type": "code",
      "source": [
        "# Cond. 2\n",
        "\n",
        "NUM=float(input(\"Enter the Number : \"))\n",
        "if NUM%2==0:\n",
        "  x = NUM**3\n",
        "  print(\"{}is the cube of {} cause it is Even\".format(x,NUM))\n",
        "\n",
        "else :\n",
        "  x = NUM**2\n",
        "  print(\"{}is the Square of {} cause it is Odd\".format(x,NUM))"
      ],
      "metadata": {
        "colab": {
          "base_uri": "https://localhost:8080/"
        },
        "id": "Fh58nbAui6aQ",
        "outputId": "f77630b5-09ad-46b2-82fd-aaf356018757"
      },
      "execution_count": null,
      "outputs": [
        {
          "output_type": "stream",
          "name": "stdout",
          "text": [
            "Enter the Number : 69\n",
            "4761.0is the Square of 69.0 cause it is Odd\n"
          ]
        }
      ]
    },
    {
      "cell_type": "code",
      "source": [
        "# if NUM is more tha 100 and odd calculate square\n",
        "# if NUM is less tha 100 and Even calculate cube\n",
        "\n",
        "# Cond. 1\n",
        "\n",
        "NUM=float(input(\"Enter the Number : \"))\n",
        "if NUM>100 and NUM%2!=0:\n",
        "  x = NUM**2\n",
        "  print(\"{}is the Square of {}\".format(x,NUM))\n",
        "\n",
        "else :\n",
        "  x = NUM**3\n",
        "  print(\"{}is the Cube of {}\".format(x,NUM))"
      ],
      "metadata": {
        "colab": {
          "base_uri": "https://localhost:8080/"
        },
        "id": "eLhAGrFZi6Ye",
        "outputId": "ef845fb7-b3b4-4b77-b813-a9c29dbacba3"
      },
      "execution_count": null,
      "outputs": [
        {
          "output_type": "stream",
          "name": "stdout",
          "text": [
            "Enter the Number : 143\n",
            "20449.0is the Square of 143.0\n"
          ]
        }
      ]
    },
    {
      "cell_type": "code",
      "source": [
        "# Cond. 2\n",
        "\n",
        "NUM=float(input(\"Enter the Number : \"))\n",
        "if NUM>100 and NUM%2!=0:\n",
        "  x = NUM**2\n",
        "  print(\"{}is the Square of {}\".format(x,NUM))\n",
        "\n",
        "else :\n",
        "  x = NUM**3\n",
        "  print(\"{}is the Cube of {}\".format(x,NUM))"
      ],
      "metadata": {
        "colab": {
          "base_uri": "https://localhost:8080/"
        },
        "id": "HA9Q948Wi6Wn",
        "outputId": "c356c630-5f8c-4f16-c70c-3b2eed6928e4"
      },
      "execution_count": null,
      "outputs": [
        {
          "output_type": "stream",
          "name": "stdout",
          "text": [
            "Enter the Number : 342\n",
            "40001688.0is the Cube of 342.0\n"
          ]
        }
      ]
    },
    {
      "cell_type": "code",
      "source": [
        "# Cond. 3\n",
        "\n",
        "NUM=float(input(\"Enter the Number : \"))\n",
        "if NUM>100 and NUM%2!=0:\n",
        "  x = NUM**2\n",
        "  print(\"{}is the Square of {}\".format(x,NUM))\n",
        "\n",
        "else :\n",
        "  x = NUM**3\n",
        "  print(\"{}is the Cube of {}\".format(x,NUM))"
      ],
      "metadata": {
        "colab": {
          "base_uri": "https://localhost:8080/"
        },
        "id": "Kh0OvYcxi6UX",
        "outputId": "575bfa32-cfbd-46f3-9f72-7d9a0ac11384"
      },
      "execution_count": null,
      "outputs": [
        {
          "output_type": "stream",
          "name": "stdout",
          "text": [
            "Enter the Number : 88\n",
            "681472.0is the Cube of 88.0\n"
          ]
        }
      ]
    },
    {
      "cell_type": "code",
      "source": [
        "# if NUM is more tha 100 and odd calculate square\n",
        "# if NUM is more tha 100 and Even calculate square root\n",
        "# if NUM is less tha 100 and odd calculate cube\n",
        "# if NUM is less tha 100 and Even calculate cube root\n",
        "# # else : print x is equals to 100\n",
        "\n",
        "NUM=float(input(\"Enter the Number : \"))\n",
        "if NUM>100 and NUM%2!=0:\n",
        "  x = NUM**2\n",
        "  print(\"{}is the Square of {}\".format(x,NUM))\n",
        "\n",
        "elif NUM>100 and NUM%2==0:\n",
        "  x = NUM**(1/2)\n",
        "  print(\"{}is the Square root of {}\".format(x,NUM))\n",
        "\n",
        "elif NUM<100 and NUM%2!=0:\n",
        "  x = NUM**3\n",
        "  print(\"{}is the Cube of {}\".format(x,NUM))\n",
        "\n",
        "elif NUM<100 and NUM%2==0:\n",
        "  x = NUM**(1/3)\n",
        "  print(\"{}is the Cube root of {}\".format(x,NUM))\n",
        "\n",
        "else :\n",
        "  print(\"x is equals to 100\")"
      ],
      "metadata": {
        "id": "4TVnsT09i6SU",
        "colab": {
          "base_uri": "https://localhost:8080/"
        },
        "outputId": "26adb253-428f-4dee-884b-07c78d187b38"
      },
      "execution_count": null,
      "outputs": [
        {
          "output_type": "stream",
          "name": "stdout",
          "text": [
            "Enter the Number : 100\n",
            "x is equals to 100\n"
          ]
        }
      ]
    },
    {
      "cell_type": "code",
      "source": [
        "# Check the datatype of NUM using comditional Statement\n",
        "\n",
        "NUM=(input(\"Enter the Number : \"))\n",
        "if type(NUM)==int:\n",
        "  print(NUM,\"is an integer\")\n",
        "\n",
        "elif type(NUM)==float:\n",
        "  print(NUM,\"is an float\")\n",
        "\n",
        "elif type(NUM)==bool:\n",
        "    print(NUM,\"is an boolean\")\n",
        "\n",
        "elif type(NUM)==str:\n",
        "    print(NUM,\"is an string\")\n",
        "\n",
        "elif type(NUM)==complex :\n",
        "  print(NUM,\"is an Complex\")\n",
        "\n",
        "elif type(NUM)==list:\n",
        "  print(NUM,\"is an List\")\n",
        "\n",
        "elif type(NUM)==tuple:\n",
        "  print(NUM,\"is an Tuple\")\n",
        "\n",
        "elif type(NUM)==set:\n",
        "  print(NUM,\"is an Set\")\n",
        "\n",
        "elif type(NUM)==dict:\n",
        "  print(NUM,\"is an Dict\")\n",
        "\n",
        "elif type(NUM)== range:\n",
        "  print(NUM,\"is an Range\")\n",
        "\n",
        "else :\n",
        "    print(\"Invalid Input\")\n",
        "\n"
      ],
      "metadata": {
        "id": "JZY5K1Dni6MU",
        "colab": {
          "base_uri": "https://localhost:8080/"
        },
        "outputId": "640e95ae-1b51-46a6-c9c2-c11ec2233bf9"
      },
      "execution_count": null,
      "outputs": [
        {
          "output_type": "stream",
          "name": "stdout",
          "text": [
            "Enter the Number : 11\n",
            "11 is an string\n"
          ]
        }
      ]
    },
    {
      "cell_type": "code",
      "source": [
        "# Check if the string starts with S and ends with t\n",
        "\n",
        "s = input(\"Enter the String : \")\n",
        "\n",
        "if s[0] == \"S\" and  s[-1] == \"t\":\n",
        "  print(s,\"Starts with S & ends with t\")\n",
        "\n",
        "elif s[0] == \"S\":\n",
        "  print(s,\"Starts with S\")\n",
        "\n",
        "elif s[-1] == \"t\":\n",
        "  print(s,\"ends with t\")\n",
        "\n",
        "else :\n",
        "  print(s,\"does not ends with S\")"
      ],
      "metadata": {
        "id": "eXqQy-tAi6AN",
        "colab": {
          "base_uri": "https://localhost:8080/"
        },
        "outputId": "14ce0818-475b-4967-8e3b-41714b801c26"
      },
      "execution_count": null,
      "outputs": [
        {
          "output_type": "stream",
          "name": "stdout",
          "text": [
            "Enter the String : Smart\n",
            "Smart Starts with S & ends with t\n"
          ]
        }
      ]
    },
    {
      "cell_type": "code",
      "source": [
        "# Check if the string ends with t\n",
        "\n",
        "s = input(\"Enter the String\")\n",
        "\n",
        "if s[-1] == \"t\":\n",
        "  print(s,\"ends with t\")\n",
        "\n",
        "else :\n",
        "  print(s,\"does not ends with t\")"
      ],
      "metadata": {
        "id": "9SnHPhZLi6CU"
      },
      "execution_count": null,
      "outputs": []
    },
    {
      "cell_type": "code",
      "source": [
        "# Check if the string starts with S\n",
        "\n",
        "s = input(\"Enter the String : \")\n",
        "if s[0] == \"S\":\n",
        "  print(s,\"Starts with S\")\n",
        "else :\n",
        "  print(s,\"does not ends with S\")"
      ],
      "metadata": {
        "id": "pi86JPNli593"
      },
      "execution_count": null,
      "outputs": []
    },
    {
      "cell_type": "code",
      "source": [
        "# Check if the string starts with A and ends with a\n",
        "# Check if the string starts with A and ends with i\n",
        "# Check if the string dose'nt starts with A and ends with a\n",
        "\n",
        "s = input(\"Enter the String : \")\n",
        "\n",
        "if s[0] == \"A\" and  s[-1] == \"a\":\n",
        "  print(s,\"Starts with A & ends with a\")\n",
        "\n",
        "elif s[0] == \"A\" and  s[-1] == \"i\":\n",
        "  print(s,\"Starts with A & ends with i\")\n",
        "\n",
        "  elif s[0] == \"A\":\n",
        "  print(s,\"Starts with A\")\n",
        "\n",
        "elif s[-1] == \"a\":\n",
        "  print(s,\"ends with a\")\n",
        "\n",
        "else :\n",
        "  print(s,\"does not starts and ends with A\")"
      ],
      "metadata": {
        "id": "GuJJ9h1Ti55X",
        "colab": {
          "base_uri": "https://localhost:8080/"
        },
        "outputId": "15bac120-78fc-47bb-a71d-2a5264b1edb9"
      },
      "execution_count": null,
      "outputs": [
        {
          "output_type": "stream",
          "name": "stdout",
          "text": [
            "Enter the String : Anan\n",
            "Anan does not starts and ends with A\n"
          ]
        }
      ]
    },
    {
      "cell_type": "code",
      "source": [
        "# Check if the 1st letter is in Uppercase and Lowercase\n",
        "# Cond 1\n",
        "s = input(\"Enter the String : \")\n",
        "if s[0].isupper():\n",
        "  print(s,\"Starts with Uppercase\")\n",
        "elif s[0].islower():\n",
        "  print(s,\"Starts with Lowercase\")"
      ],
      "metadata": {
        "id": "FkUNqFzYi57h",
        "colab": {
          "base_uri": "https://localhost:8080/"
        },
        "outputId": "e65f77df-8a05-4da2-c654-9d9797d70af3"
      },
      "execution_count": null,
      "outputs": [
        {
          "output_type": "stream",
          "name": "stdout",
          "text": [
            "Enter the String : Dushyant\n",
            "Dushyant Starts with Uppercase\n"
          ]
        }
      ]
    },
    {
      "cell_type": "code",
      "source": [
        "# Check if the 1st letter is in Uppercase and Lowercase\n",
        "# Cond 2\n",
        "\n",
        "s = input(\"Enter the String : \")\n",
        "if s[0].isupper():\n",
        "  print(s,\"String Starts with uppercase\")\n",
        "elif s[0].islower():\n",
        "  print(s,\"String Starts with lowercase\")"
      ],
      "metadata": {
        "id": "4To-MWBevQ8C"
      },
      "execution_count": null,
      "outputs": []
    },
    {
      "cell_type": "code",
      "source": [
        "# Check if the length of string is more than 6, equals or not\n",
        "\n",
        "s = input(\"Enter the String : \")\n",
        "if len(s)>6:\n",
        "  print(s,\"is more than 6\")\n",
        "\n",
        "elif len(s)==6:\n",
        "  print(s,\"is equals to 6\")\n",
        "\n",
        "else :\n",
        "  print(s,\"is less than 6\")"
      ],
      "metadata": {
        "id": "3RtB1qT3q-yA"
      },
      "execution_count": null,
      "outputs": []
    },
    {
      "cell_type": "code",
      "source": [
        "# check if the count of space id more than 5 or not\n",
        "\n",
        "s = input(\"Enter the String : \")\n",
        "if s.count(\" \")>5:\n",
        "  print(s,\"is more than 5\")\n",
        "else :\n",
        "  print(s,\"is less than 5\")"
      ],
      "metadata": {
        "id": "zpeI8_uhvQ4W"
      },
      "execution_count": null,
      "outputs": []
    },
    {
      "cell_type": "markdown",
      "source": [
        "### Write a program ti demonstrate type checking of various data type\n",
        "\n",
        "### and demonstrate the use of following built in function in python\n",
        "\n",
        "### *ex : abs(), len(), min(), round(), isalnum(), type()*"
      ],
      "metadata": {
        "id": "db-T4Mv4yVo7"
      }
    },
    {
      "cell_type": "code",
      "source": [],
      "metadata": {
        "id": "bwxE4bynvQ2i"
      },
      "execution_count": null,
      "outputs": []
    },
    {
      "cell_type": "markdown",
      "source": [
        "# For input\n",
        "\n",
        "## n = int(input())"
      ],
      "metadata": {
        "id": "TRSIipqbzQrw"
      }
    },
    {
      "cell_type": "code",
      "source": [
        "# Take a shape as an inpit and find its parameter and area\n",
        "\n",
        "name = input (\"Enter the shape : \")\n",
        "if name.lower() == \"tringle\":\n",
        "  g = input (\"Enter what you want in triangle \")\n",
        "  if g.lower() == \"area\":\n",
        "    print(\"Area of triangle is == > 1/2*base*height\")\n",
        "  elif g.lower() == \"parameter\":\n",
        "    print(\"Parameter of triangle is == > A+B+C\")\n",
        "elif name.lower() == \"cube\":\n",
        "  g = input (\"Enter what you want in cube \")\n",
        "  if g.lower() == \"area\":\n",
        "    print(\" Volume (V) of cube is == > 6*side*side\")\n",
        "  elif g.lower() == \"parameter\":\n",
        "    print(\"Surface Area (A) of cube is == > 12*side\")\n",
        "elif name.lower() == \"cylinder\":\n",
        "  g = input (\"Enter what you want in cylinder \")\n",
        "  if g.lower() == \"area\":\n",
        "    print(\" Volume (V) of cylinder is == >  πr^2h\")\n",
        "  elif g.lower() == \"parameter\":\n",
        "    print(\"Surface Area (A) of cylinder is == > 2πr^2 + 2πrh\")"
      ],
      "metadata": {
        "colab": {
          "base_uri": "https://localhost:8080/"
        },
        "id": "WAstkV9LnADQ",
        "outputId": "1f1f39a1-392f-4b96-ba3e-7849090d1b65"
      },
      "execution_count": null,
      "outputs": [
        {
          "name": "stdout",
          "output_type": "stream",
          "text": [
            "Enter the shape : triangle\n"
          ]
        }
      ]
    },
    {
      "cell_type": "code",
      "source": [
        "# Take a shape as an inpit and find its parameter and area\n",
        "\n",
        "name = input (\"Enter the shape : \")\n",
        "if name.lower() == \"triangle\":\n",
        "  g = input (\"Enter what you want in triangle \")\n",
        "  if g.lower() == \"area\":\n",
        "    height = float(input(\"Enter the height : \"))\n",
        "    base = float(input(\"Enter the base : \"))\n",
        "    area = 1/2*base*height\n",
        "    print(\"Area of triangle is == > \",area)\n",
        "  elif g.lower() == \"parameter\":\n",
        "\n",
        "    a = float(input(\"Enter the side 1 : \"))\n",
        "    b = float(input(\"Enter the side 2 : \"))\n",
        "    c = float(input(\"Enter the side 3 : \"))\n",
        "    parameter = a+b+c\n",
        "    print(\"Parameter of triangle is == > \",parameter)\n",
        "elif name.lower() == \"cube\":\n",
        "  g = input (\"Enter what you want in cube \")\n",
        "  if g.lower() == \"area\":\n",
        "    side = float(input(\"Enter the side : \"))\n",
        "    area = 6*side*side\n",
        "    print(\" Volume (V) of cube is == > \",area)\n",
        "  elif g.lower() == \"parameter\":\n",
        "    side = float(input(\"Enter the side : \"))\n",
        "    parameter = 12*side\n",
        "    print(\"Surface Area (A) of cube is == > \",parameter)\n",
        "elif name.lower() == \"cylinder\":\n",
        "  g = input (\"Enter what you want in cylinder \")\n",
        "  if g.lower() == \"volume\":\n",
        "    radius = float(input(\"Enter the radius : \"))\n",
        "    height = float(input(\"Enter the height : \"))\n",
        "    area = 2*3.14*radius*height\n",
        "    print(\" Volume (V) of cylinder is == > \",area)\n",
        "  elif g.lower() == \"surface area\":\n",
        "    radius = float(input(\"Enter the radius : \"))\n",
        "    height = float(input(\"Enter the height : \"))\n",
        "    area = 2*3.14*radius*height\n",
        "    print(\"Surface Area (A) of cylinder is == > \",area)\n"
      ],
      "metadata": {
        "colab": {
          "base_uri": "https://localhost:8080/"
        },
        "id": "fC5Ed4NknAGW",
        "outputId": "62e008be-3d2e-418e-c2f1-4834ac79bf3e"
      },
      "execution_count": null,
      "outputs": [
        {
          "output_type": "stream",
          "name": "stdout",
          "text": [
            "Enter the shape : triangle\n",
            "Enter what you want in triangle area\n",
            "Enter the height : 4\n",
            "Enter the base : 5\n",
            "Area of triangle is == >  10.0\n"
          ]
        }
      ]
    },
    {
      "cell_type": "markdown",
      "source": [
        "# ***Loops***\n",
        "\n",
        "## *For Loop*\n",
        "## *While Loop*"
      ],
      "metadata": {
        "id": "hb7GHEoTkeGk"
      }
    },
    {
      "cell_type": "code",
      "source": [
        "Loop = [1,2,3,4,5,6]\n",
        "# For variable in Loop:\n",
        "\n",
        "for i in Loop:\n",
        "  # For loop Syntax,Looping variable 'i'\n",
        "  print(i)"
      ],
      "metadata": {
        "colab": {
          "base_uri": "https://localhost:8080/"
        },
        "id": "GJr8wjAulSE4",
        "outputId": "80a4b3de-224e-4357-884b-493b51e56140"
      },
      "execution_count": null,
      "outputs": [
        {
          "output_type": "stream",
          "name": "stdout",
          "text": [
            "1\n",
            "2\n",
            "3\n",
            "4\n",
            "5\n",
            "6\n"
          ]
        }
      ]
    },
    {
      "cell_type": "code",
      "source": [
        "g = [\"a\",\"b\",\"c\",\"d\",\"e\",True]\n",
        "# String type & Bool type [Can have different type of variable]\n",
        "for f in g:\n",
        "  print(f)"
      ],
      "metadata": {
        "colab": {
          "base_uri": "https://localhost:8080/"
        },
        "id": "4S-AVc53mCbZ",
        "outputId": "d3fe5bdd-7686-43c3-c170-c5662bbece79"
      },
      "execution_count": null,
      "outputs": [
        {
          "output_type": "stream",
          "name": "stdout",
          "text": [
            "a\n",
            "b\n",
            "c\n",
            "d\n",
            "e\n"
          ]
        }
      ]
    },
    {
      "cell_type": "code",
      "source": [
        "# Basic Looping\n",
        "Loop = [1,2,3,4,5,6,7,8,9,10]\n",
        "# For variable in Loop:\n",
        "for ss in Loop:\n",
        "  print(ss)"
      ],
      "metadata": {
        "id": "9DG8Un-4nAAI",
        "colab": {
          "base_uri": "https://localhost:8080/"
        },
        "outputId": "208be9db-4168-40ef-9704-cde1b21fe186"
      },
      "execution_count": null,
      "outputs": [
        {
          "output_type": "stream",
          "name": "stdout",
          "text": [
            "1\n",
            "2\n",
            "3\n",
            "4\n",
            "5\n",
            "6\n",
            "7\n",
            "8\n",
            "9\n",
            "10\n"
          ]
        }
      ]
    },
    {
      "cell_type": "code",
      "source": [
        "# Print those elemets which is more than 3\n",
        "Loop = [1,2,3,4,5,6,7,8,9,10]\n",
        "for i in Loop:\n",
        "  if i>3:\n",
        "    print(i)"
      ],
      "metadata": {
        "id": "oLW80iAYyNG7",
        "colab": {
          "base_uri": "https://localhost:8080/"
        },
        "outputId": "3ab9fb8e-2293-43b2-f270-619e928403da"
      },
      "execution_count": null,
      "outputs": [
        {
          "output_type": "stream",
          "name": "stdout",
          "text": [
            "4\n",
            "5\n",
            "6\n",
            "7\n",
            "8\n",
            "9\n",
            "10\n"
          ]
        }
      ]
    },
    {
      "cell_type": "code",
      "source": [
        "# Print even elements from the list\n",
        "Loop = [1,2,3,4,5,6,7,8,9,10]\n",
        "for i in Loop:\n",
        "  if i%2==0:\n",
        "    print(i)"
      ],
      "metadata": {
        "id": "GBQlMdDam_8j"
      },
      "execution_count": null,
      "outputs": []
    },
    {
      "cell_type": "code",
      "source": [
        "# Print even elements from the list and calculate square\n",
        "Loop = [1,2,3,4,5,6,7,8,9,10]\n",
        "for i in Loop:\n",
        "  if i%2==0:\n",
        "    print(\"{} is the square of {}\". format(i**2,i))"
      ],
      "metadata": {
        "id": "19kdFevrvQ0C",
        "colab": {
          "base_uri": "https://localhost:8080/"
        },
        "outputId": "331e08ca-6401-42ce-a0af-9a59ad12e187"
      },
      "execution_count": null,
      "outputs": [
        {
          "output_type": "stream",
          "name": "stdout",
          "text": [
            "4 is the square of 2\n",
            "16 is the square of 4\n",
            "36 is the square of 6\n",
            "64 is the square of 8\n",
            "100 is the square of 10\n"
          ]
        }
      ]
    },
    {
      "cell_type": "code",
      "source": [
        "# Print those elements b/w 10 and 20\n",
        "Loop = [1,10,11,2,24,13,16,18,19,20,33,45,77]\n",
        "for i in Loop:\n",
        "  if i>10 and i<20:\n",
        "    print(i)\n"
      ],
      "metadata": {
        "id": "H020_7cNvQsT",
        "colab": {
          "base_uri": "https://localhost:8080/"
        },
        "outputId": "24eae003-c8a3-4d42-b954-908b1f8fcd75"
      },
      "execution_count": null,
      "outputs": [
        {
          "output_type": "stream",
          "name": "stdout",
          "text": [
            "11\n",
            "13\n",
            "16\n",
            "18\n",
            "19\n"
          ]
        }
      ]
    },
    {
      "cell_type": "code",
      "source": [
        "# Print those elements which are above that the average sum\n",
        "Loop = [1,10,11,2,24,13,16,18,19,20,33,45,77]\n",
        "for i in Loop:\n",
        "  if i>sum(Loop)/len(Loop):\n",
        "    print(i)"
      ],
      "metadata": {
        "colab": {
          "base_uri": "https://localhost:8080/"
        },
        "id": "F0PA4fMDrQSk",
        "outputId": "f415a154-9761-4008-8947-f8d76b079788"
      },
      "execution_count": null,
      "outputs": [
        {
          "output_type": "stream",
          "name": "stdout",
          "text": [
            "24\n",
            "33\n",
            "45\n",
            "77\n"
          ]
        }
      ]
    },
    {
      "cell_type": "code",
      "source": [
        "# Extract elements which are greater than 5\n",
        "Loop = [1,2,3,4,5,22,33,44,55,66,77,88,3]\n",
        "for  k in Loop:\n",
        "  if k>5:\n",
        "    print(k)"
      ],
      "metadata": {
        "id": "V4TqOcWTrQQk",
        "colab": {
          "base_uri": "https://localhost:8080/"
        },
        "outputId": "e1f142e9-63e7-4611-f7c9-7e1d318b0018"
      },
      "execution_count": null,
      "outputs": [
        {
          "output_type": "stream",
          "name": "stdout",
          "text": [
            "22\n",
            "33\n",
            "44\n",
            "55\n",
            "66\n",
            "77\n",
            "88\n"
          ]
        }
      ]
    },
    {
      "cell_type": "code",
      "source": [
        "# Extract elements which are greater than 5 in Bool form\n",
        "Loop = [1,2,3,4,5,22,33,44,55,66,77,88,3]\n",
        "for  k in Loop:\n",
        "  if k>5:\n",
        "    print(k>5)"
      ],
      "metadata": {
        "id": "f87xy5qtrQO9",
        "colab": {
          "base_uri": "https://localhost:8080/"
        },
        "outputId": "23fb5dab-a3aa-488d-b0c5-19d1e13f3a1c"
      },
      "execution_count": null,
      "outputs": [
        {
          "output_type": "stream",
          "name": "stdout",
          "text": [
            "True\n",
            "True\n",
            "True\n",
            "True\n",
            "True\n",
            "True\n",
            "True\n"
          ]
        }
      ]
    },
    {
      "cell_type": "code",
      "source": [
        "# Extract even elements from the list\n",
        "List = [12,11,21,24,43,23,22,54,68,77,88,69]\n",
        "for j in List:\n",
        "  if j%2==0:\n",
        "    print(j)"
      ],
      "metadata": {
        "id": "WmNbq5YfrQNM",
        "colab": {
          "base_uri": "https://localhost:8080/"
        },
        "outputId": "d0cacd2b-6d6f-418c-c1e1-8c70eaab9a93"
      },
      "execution_count": null,
      "outputs": [
        {
          "output_type": "stream",
          "name": "stdout",
          "text": [
            "12\n",
            "24\n",
            "22\n",
            "54\n",
            "68\n",
            "88\n"
          ]
        }
      ]
    },
    {
      "cell_type": "code",
      "source": [
        "# Print those name whih starts with \"A\"\n",
        "\n",
        "Name = [\"Rohan\",\"Abhiniza\",\"Robin\",\"Karan\",\"Aman\",\"Pankaj\",\"Aastha\"]\n",
        "for h in Name:\n",
        "  if h[0]==\"A\":\n",
        "   print(h)"
      ],
      "metadata": {
        "id": "po4l1aP5rQLS",
        "colab": {
          "base_uri": "https://localhost:8080/"
        },
        "outputId": "1637b896-1fec-4aea-c9ed-9f30a9435160"
      },
      "execution_count": null,
      "outputs": [
        {
          "output_type": "stream",
          "name": "stdout",
          "text": [
            "Abhiniza\n",
            "Aman\n",
            "Aastha\n"
          ]
        }
      ]
    },
    {
      "cell_type": "code",
      "source": [
        "# Print those name whih starts with \"A\" and ends with \"a\"\n",
        "\n",
        "Name = [\"Rohan\",\"Abhiniza\",\"Robin\",\"Karan\",\"Pankaj\",\"Aastha\"]\n",
        "for h in Name:\n",
        "  if h[0]==\"A\" and h[-1]==\"a\":\n",
        "   print(h)"
      ],
      "metadata": {
        "id": "1nYQOQkxrQJ_",
        "colab": {
          "base_uri": "https://localhost:8080/"
        },
        "outputId": "d5084b11-1ffd-4940-ee3d-9002c99071f0"
      },
      "execution_count": null,
      "outputs": [
        {
          "output_type": "stream",
          "name": "stdout",
          "text": [
            "Abhiniza\n",
            "Aastha\n"
          ]
        }
      ]
    },
    {
      "cell_type": "code",
      "source": [
        "# Print first four letters of all names\n",
        "\n",
        "Name = [\"Rohan\",\"Abhiniza\",\"Robin\",\"Karan\",\"Pankaj\",\"Aastha\"]\n",
        "for h in Name:\n",
        "  print(h[:4])"
      ],
      "metadata": {
        "id": "evp8CS0KrQH-",
        "colab": {
          "base_uri": "https://localhost:8080/"
        },
        "outputId": "0c5747d8-475e-4062-f290-380a6f2a64ff"
      },
      "execution_count": null,
      "outputs": [
        {
          "output_type": "stream",
          "name": "stdout",
          "text": [
            "Roha\n",
            "Abhi\n",
            "Robi\n",
            "Kara\n",
            "Pank\n",
            "Aast\n"
          ]
        }
      ]
    },
    {
      "cell_type": "code",
      "source": [
        "# Print all the leap years in the given list\n",
        "\n",
        "Year = [1700,1800,1900,1990,1991,1992,1993,1994,1995,1996,1997,1998,1999,2000,2001,2002,2003,2004,2005,2006,2007,2008,2009,2010,2011,2012,2013,2014,2015,2016,2017,2018,2019,2020,2021,2022,2023,2024,2025,2026,2027,2028,2029,2030]\n",
        "for i in Year:\n",
        "  if i%4==0 and i%100 !=0 or i%400==0:\n",
        "    print(i)"
      ],
      "metadata": {
        "id": "BV62gDtOrQGW",
        "colab": {
          "base_uri": "https://localhost:8080/"
        },
        "outputId": "165527e3-e056-4558-a964-cf58ec3da25f"
      },
      "execution_count": null,
      "outputs": [
        {
          "output_type": "stream",
          "name": "stdout",
          "text": [
            "1992\n",
            "1996\n",
            "2000\n",
            "2004\n",
            "2008\n",
            "2012\n",
            "2016\n",
            "2020\n",
            "2024\n",
            "2028\n"
          ]
        }
      ]
    },
    {
      "cell_type": "code",
      "source": [
        "# Print the 2nd highest element from the List\n",
        "\n",
        "List = [1,3,7,9,5,6,7,2,5,8,4,10,10]\n",
        "List.sort()\n",
        "print(List[-2])"
      ],
      "metadata": {
        "id": "8m00vTZJrQES",
        "colab": {
          "base_uri": "https://localhost:8080/"
        },
        "outputId": "e5fc3776-7802-4bde-fd83-865b633885b4"
      },
      "execution_count": null,
      "outputs": [
        {
          "output_type": "stream",
          "name": "stdout",
          "text": [
            "10\n"
          ]
        }
      ]
    },
    {
      "cell_type": "code",
      "source": [
        "# Print the 2nd highest element from the List without repitition\n",
        "\n",
        "List = [1,3,7,9,5,6,7,2,5,8,4,10,11,11]\n",
        "List.sort()\n",
        "print(List[-2])"
      ],
      "metadata": {
        "id": "8GBqSDObrQB-",
        "colab": {
          "base_uri": "https://localhost:8080/"
        },
        "outputId": "b8d0bad2-010e-4973-90e2-0261abce5baa"
      },
      "execution_count": null,
      "outputs": [
        {
          "output_type": "stream",
          "name": "stdout",
          "text": [
            "11\n"
          ]
        }
      ]
    },
    {
      "cell_type": "code",
      "source": [
        "# Print all even numbers b/w 10 and 50\n",
        "\n",
        "for j in range(10,50,2):\n",
        "  print (j)"
      ],
      "metadata": {
        "id": "UIPhKbI4rP_k",
        "colab": {
          "base_uri": "https://localhost:8080/"
        },
        "outputId": "079b04ac-0877-4c71-8d74-da07d62dc798"
      },
      "execution_count": null,
      "outputs": [
        {
          "output_type": "stream",
          "name": "stdout",
          "text": [
            "10\n",
            "12\n",
            "14\n",
            "16\n",
            "18\n",
            "20\n",
            "22\n",
            "24\n",
            "26\n",
            "28\n",
            "30\n",
            "32\n",
            "34\n",
            "36\n",
            "38\n",
            "40\n",
            "42\n",
            "44\n",
            "46\n",
            "48\n"
          ]
        }
      ]
    },
    {
      "cell_type": "code",
      "source": [
        "# Print those digit where onea digit is 5 b/w 10 ot 100\n",
        "# Check 1\n",
        "\n",
        "for i in range(10,100):\n",
        "  if i%10==5:\n",
        "    print(i)"
      ],
      "metadata": {
        "id": "WzAHd0HrrP9P",
        "colab": {
          "base_uri": "https://localhost:8080/"
        },
        "outputId": "417f2e2c-4cd8-4b12-97a2-ffbbe7021448"
      },
      "execution_count": null,
      "outputs": [
        {
          "output_type": "stream",
          "name": "stdout",
          "text": [
            "15\n",
            "25\n",
            "35\n",
            "45\n",
            "55\n",
            "65\n",
            "75\n",
            "85\n",
            "95\n"
          ]
        }
      ]
    },
    {
      "cell_type": "code",
      "source": [
        "# Print those digit where onea digit is 5 b/w 10 ot 100\n",
        "# Check 2\n",
        "for i in range(10,100):\n",
        "  if i%10!=0 and i%5==0:\n",
        "    print(i)"
      ],
      "metadata": {
        "id": "HikbWHvjrP6H",
        "colab": {
          "base_uri": "https://localhost:8080/"
        },
        "outputId": "e29fcb6b-25b7-4272-cded-3a3f5f4cbfa1"
      },
      "execution_count": null,
      "outputs": [
        {
          "output_type": "stream",
          "name": "stdout",
          "text": [
            "15\n",
            "25\n",
            "35\n",
            "45\n",
            "55\n",
            "65\n",
            "75\n",
            "85\n",
            "95\n"
          ]
        }
      ]
    },
    {
      "cell_type": "code",
      "source": [
        "# Print the table of 2\n",
        "\n",
        "for i in range(1,11):\n",
        "  print(\"2 x {} = {}\".format(i,2*i))"
      ],
      "metadata": {
        "id": "hHt3C_OTrP3k",
        "colab": {
          "base_uri": "https://localhost:8080/"
        },
        "outputId": "a52bef23-cf3e-49e5-9517-30b59e0b57e4"
      },
      "execution_count": null,
      "outputs": [
        {
          "output_type": "stream",
          "name": "stdout",
          "text": [
            "2 x 1 = 2\n",
            "2 x 2 = 4\n",
            "2 x 3 = 6\n",
            "2 x 4 = 8\n",
            "2 x 5 = 10\n",
            "2 x 6 = 12\n",
            "2 x 7 = 14\n",
            "2 x 8 = 16\n",
            "2 x 9 = 18\n",
            "2 x 10 = 20\n"
          ]
        }
      ]
    },
    {
      "cell_type": "code",
      "source": [
        "h = 2\n",
        "for j in range (1,11):\n",
        "  print (\"{} * {} = {}\".format(h,j,h*j))"
      ],
      "metadata": {
        "colab": {
          "base_uri": "https://localhost:8080/"
        },
        "id": "ylSZdxd-tAhW",
        "outputId": "2a918878-59be-4375-acfd-108f79586a52"
      },
      "execution_count": null,
      "outputs": [
        {
          "output_type": "stream",
          "name": "stdout",
          "text": [
            "2 * 1 = 2\n",
            "2 * 2 = 4\n",
            "2 * 3 = 6\n",
            "2 * 4 = 8\n",
            "2 * 5 = 10\n",
            "2 * 6 = 12\n",
            "2 * 7 = 14\n",
            "2 * 8 = 16\n",
            "2 * 9 = 18\n",
            "2 * 10 = 20\n"
          ]
        }
      ]
    },
    {
      "cell_type": "code",
      "source": [
        "# Interview Question\n",
        "# Create 2 lists and add even and odd digit in both list b/w 10 and 50\n",
        "\n",
        "Even = []\n",
        "Odd = []\n",
        "for i in range(10,50):\n",
        "  if i%2==0:\n",
        "    Even.append(i)\n",
        "  else:\n",
        "    Odd.append(i)\n",
        "print(Even)\n",
        "print(Odd)"
      ],
      "metadata": {
        "colab": {
          "base_uri": "https://localhost:8080/"
        },
        "id": "lFlq_rA9tAdM",
        "outputId": "b770deb0-bc72-458b-81cb-9aba37700d2e"
      },
      "execution_count": null,
      "outputs": [
        {
          "output_type": "stream",
          "name": "stdout",
          "text": [
            "[10, 12, 14, 16, 18, 20, 22, 24, 26, 28, 30, 32, 34, 36, 38, 40, 42, 44, 46, 48]\n",
            "[11, 13, 15, 17, 19, 21, 23, 25, 27, 29, 31, 33, 35, 37, 39, 41, 43, 45, 47, 49]\n"
          ]
        }
      ]
    },
    {
      "cell_type": "code",
      "source": [
        "# Create 2 lists and add prime and non dugit in both list b/w 10 and 50\n",
        "\n",
        "Prime = []\n",
        "Composite = []\n",
        "for i in range(10,50):\n",
        "  if i>1:\n",
        "    for j in range(2,i):\n",
        "\n",
        "   Prime.append(i)\n",
        "  else:\n",
        "    Composite.append(i)\n",
        "print(Prime)\n",
        "print(Composite)"
      ],
      "metadata": {
        "colab": {
          "base_uri": "https://localhost:8080/"
        },
        "id": "GscXEJlStAa6",
        "outputId": "a2c7d70b-1a3e-4d7d-e107-6b0b5609ed54"
      },
      "execution_count": null,
      "outputs": [
        {
          "output_type": "stream",
          "name": "stdout",
          "text": [
            "[10, 11, 12, 13, 14, 15, 16, 17, 18, 19, 20, 21, 22, 23, 24, 25, 26, 27, 28, 29, 30, 31, 32, 33, 34, 35, 36, 37, 38, 39, 40, 41, 42, 43, 44, 45, 46, 47, 48, 49]\n",
            "[]\n"
          ]
        }
      ]
    },
    {
      "cell_type": "markdown",
      "source": [
        "# Pattern Printing"
      ],
      "metadata": {
        "id": "Dib5UMVrynHy"
      }
    },
    {
      "cell_type": "code",
      "source": [
        "for i in range(1,5):\n",
        "  print(\"* \"*i)"
      ],
      "metadata": {
        "colab": {
          "base_uri": "https://localhost:8080/"
        },
        "id": "hMMDHP0OtAYS",
        "outputId": "79ebb767-1e70-4b50-abed-82dca28d0e31"
      },
      "execution_count": null,
      "outputs": [
        {
          "output_type": "stream",
          "name": "stdout",
          "text": [
            "* \n",
            "* * \n",
            "* * * \n",
            "* * * * \n"
          ]
        }
      ]
    },
    {
      "cell_type": "code",
      "source": [
        "for i in range(1,5):\n",
        "  print(\"* \")"
      ],
      "metadata": {
        "colab": {
          "base_uri": "https://localhost:8080/"
        },
        "id": "oSUqnqh_zWnI",
        "outputId": "6aab7f21-f810-43fc-9c4a-283f08b9a362"
      },
      "execution_count": null,
      "outputs": [
        {
          "output_type": "stream",
          "name": "stdout",
          "text": [
            "* \n",
            "* \n",
            "* \n",
            "* \n"
          ]
        }
      ]
    },
    {
      "cell_type": "code",
      "source": [
        "\n",
        "for i in range (n):\n",
        "  print(\"* \"*n)"
      ],
      "metadata": {
        "colab": {
          "base_uri": "https://localhost:8080/",
          "height": 162
        },
        "id": "7q6pnS_AzWkQ",
        "outputId": "442bd00f-eda9-4923-d736-b134b583bf19"
      },
      "execution_count": null,
      "outputs": [
        {
          "output_type": "error",
          "ename": "NameError",
          "evalue": "name 'n' is not defined",
          "traceback": [
            "\u001b[0;31m---------------------------------------------------------------------------\u001b[0m",
            "\u001b[0;31mNameError\u001b[0m                                 Traceback (most recent call last)",
            "\u001b[0;32m<ipython-input-21-48ecf916ff76>\u001b[0m in \u001b[0;36m<cell line: 1>\u001b[0;34m()\u001b[0m\n\u001b[0;32m----> 1\u001b[0;31m \u001b[0;32mfor\u001b[0m \u001b[0mi\u001b[0m \u001b[0;32min\u001b[0m \u001b[0mrange\u001b[0m \u001b[0;34m(\u001b[0m\u001b[0mn\u001b[0m\u001b[0;34m)\u001b[0m\u001b[0;34m:\u001b[0m\u001b[0;34m\u001b[0m\u001b[0;34m\u001b[0m\u001b[0m\n\u001b[0m\u001b[1;32m      2\u001b[0m   \u001b[0mprint\u001b[0m\u001b[0;34m(\u001b[0m\u001b[0;34m\"* \"\u001b[0m\u001b[0;34m*\u001b[0m\u001b[0mn\u001b[0m\u001b[0;34m)\u001b[0m\u001b[0;34m\u001b[0m\u001b[0;34m\u001b[0m\u001b[0m\n",
            "\u001b[0;31mNameError\u001b[0m: name 'n' is not defined"
          ]
        }
      ]
    },
    {
      "cell_type": "code",
      "source": [],
      "metadata": {
        "id": "rYl9yCiKzWhl"
      },
      "execution_count": null,
      "outputs": []
    },
    {
      "cell_type": "code",
      "source": [
        "# Print Reverse Right angled Triangle * pattern\n",
        "for i in range(1,6):\n",
        "  print(\"* \"*(6-i),\" \"*i)"
      ],
      "metadata": {
        "colab": {
          "base_uri": "https://localhost:8080/"
        },
        "id": "oVRHGdjDtAS9",
        "outputId": "330d5191-b7ea-49fe-b3c8-1444e0f30ff3"
      },
      "execution_count": null,
      "outputs": [
        {
          "output_type": "stream",
          "name": "stdout",
          "text": [
            "* * * * *   \n",
            "* * * *    \n",
            "* * *     \n",
            "* *      \n",
            "*       \n"
          ]
        }
      ]
    },
    {
      "cell_type": "code",
      "source": [
        " # Print Trial * pattern\n",
        " for i in range(1,6):\n",
        "  print(\" \"*(1+i),\"* \"*i)"
      ],
      "metadata": {
        "id": "hDGgSY-nrIWX",
        "colab": {
          "base_uri": "https://localhost:8080/"
        },
        "outputId": "e0d1d1f0-45d7-4e62-eb70-c694f66f6d57"
      },
      "execution_count": null,
      "outputs": [
        {
          "output_type": "stream",
          "name": "stdout",
          "text": [
            "   * \n",
            "    * * \n",
            "     * * * \n",
            "      * * * * \n",
            "       * * * * * \n"
          ]
        }
      ]
    },
    {
      "cell_type": "code",
      "source": [
        "# Print Right angled Triangle * pattern\n",
        "for i in range(1,6):\n",
        "  print(\" \"*(i-6),\"* \"*i)"
      ],
      "metadata": {
        "colab": {
          "base_uri": "https://localhost:8080/"
        },
        "id": "7IbFQRP1y0m5",
        "outputId": "82580759-ef2d-4c6e-9520-d88acb2476af"
      },
      "execution_count": null,
      "outputs": [
        {
          "output_type": "stream",
          "name": "stdout",
          "text": [
            " * \n",
            " * * \n",
            " * * * \n",
            " * * * * \n",
            " * * * * * \n"
          ]
        }
      ]
    },
    {
      "cell_type": "code",
      "source": [
        "# Print pyramid * pattern\n",
        "\n",
        "for i in range(1,10):\n",
        "  print(\" \"*(10-i),\"* \"*i)\n",
        "\n"
      ],
      "metadata": {
        "colab": {
          "base_uri": "https://localhost:8080/"
        },
        "id": "9ZwGXPJZy8Ic",
        "outputId": "eeab61f2-c491-48f6-8764-c9f111141f50"
      },
      "execution_count": null,
      "outputs": [
        {
          "output_type": "stream",
          "name": "stdout",
          "text": [
            "          * \n",
            "         * * \n",
            "        * * * \n",
            "       * * * * \n",
            "      * * * * * \n",
            "     * * * * * * \n",
            "    * * * * * * * \n",
            "   * * * * * * * * \n",
            "  * * * * * * * * * \n"
          ]
        }
      ]
    },
    {
      "cell_type": "code",
      "source": [
        "# Print reverse pyramid * pattern\n",
        "\n",
        "for i in range(5, 0, -1):\n",
        "  print(\" \" * (5 - i) + \"* \" * i)\n"
      ],
      "metadata": {
        "colab": {
          "base_uri": "https://localhost:8080/"
        },
        "id": "J_PA0ZZwzxpQ",
        "outputId": "37b4ced2-355b-4069-b97a-9efd4bad1dc1"
      },
      "execution_count": null,
      "outputs": [
        {
          "output_type": "stream",
          "name": "stdout",
          "text": [
            "* * * * * \n",
            " * * * * \n",
            "  * * * \n",
            "   * * \n",
            "    * \n"
          ]
        }
      ]
    },
    {
      "cell_type": "code",
      "source": [
        "# Print Reverse Right angled Triangle * pattern\n",
        "for i in range(1,6):\n",
        "  print(\"* \"*(6-i),\" *\"*i)"
      ],
      "metadata": {
        "colab": {
          "base_uri": "https://localhost:8080/"
        },
        "id": "PhuYKRuF0FHT",
        "outputId": "1b6ed6c4-588e-424e-dd01-4055eb421d13"
      },
      "execution_count": null,
      "outputs": [
        {
          "output_type": "stream",
          "name": "stdout",
          "text": [
            "* * * * *   *\n",
            "* * * *   * *\n",
            "* * *   * * *\n",
            "* *   * * * *\n",
            "*   * * * * *\n"
          ]
        }
      ]
    },
    {
      "cell_type": "code",
      "source": [
        "# Print Reverse Right angled Triangle * pattern\n",
        "for i in range(1,6):\n",
        "  print(\"* \"*(6-i),\" \"*i)\n",
        "  print(\" \"*(i+1),\" *\"*i)"
      ],
      "metadata": {
        "colab": {
          "base_uri": "https://localhost:8080/"
        },
        "id": "Ke7eWGg018wn",
        "outputId": "6ca9431e-160c-4ea5-da53-800a34de323a"
      },
      "execution_count": null,
      "outputs": [
        {
          "output_type": "stream",
          "name": "stdout",
          "text": [
            "* * * * *   \n",
            "* * * *    \n",
            "* * *     \n",
            "* *      \n",
            "*       \n"
          ]
        }
      ]
    },
    {
      "cell_type": "code",
      "source": [
        "for i in range(1,5):\n",
        "  for j in range(1,5):\n",
        "    if j<=i:\n",
        "      print(j,end=\" \")\n",
        "  print()"
      ],
      "metadata": {
        "colab": {
          "base_uri": "https://localhost:8080/"
        },
        "id": "5-IsGB2b097I",
        "outputId": "c91e5ed4-a18a-4153-c056-43b7dd729129"
      },
      "execution_count": null,
      "outputs": [
        {
          "output_type": "stream",
          "name": "stdout",
          "text": [
            "1 \n",
            "1 2 \n",
            "1 2 3 \n",
            "1 2 3 4 \n"
          ]
        }
      ]
    },
    {
      "cell_type": "code",
      "source": [
        "for i in range(1,5):\n",
        "  for j in range(1,5):\n",
        "    if j>=i:\n",
        "      print(j,end=\" \")\n",
        "  print()"
      ],
      "metadata": {
        "colab": {
          "base_uri": "https://localhost:8080/"
        },
        "id": "eEvWMCNS1ug6",
        "outputId": "f81cd890-9626-4a2c-ab9c-9dc638b369ce"
      },
      "execution_count": null,
      "outputs": [
        {
          "output_type": "stream",
          "name": "stdout",
          "text": [
            "1 2 3 4 \n",
            "2 3 4 \n",
            "3 4 \n",
            "4 \n"
          ]
        }
      ]
    },
    {
      "cell_type": "code",
      "source": [
        "for i in range(1,5):\n",
        "  for j in range(1,8):\n",
        "    if j<=5-i or j>=3+i:\n",
        "      print(\"*\",end=\" \")\n",
        "      else:\n",
        "        print(\" \",end=\" \")\n",
        "  print()"
      ],
      "metadata": {
        "id": "gPrgbUIO1zqY"
      },
      "execution_count": null,
      "outputs": []
    },
    {
      "cell_type": "code",
      "source": [
        "# Create 2 list name them square and cube and add perfect square\n",
        "#between 1 ands 200 in square list same with cube\n",
        "\n",
        "Square=[i**2 for i in range(1,200) if i**2<=200]\n",
        "Sum_Square = sum(Square)\n",
        "Cube=[i**3 for i in range(1,200) if i**3<=200]\n",
        "sum_cube = sum(Cube)\n",
        "print(\"Perfect Square: \",Square)\n",
        "print(\"Perfect Square: \",Cube)\n",
        "print(\"Sum of Perfect Square: \",Sum_Square)\n",
        "print(\"Sum of Perfect Cube: \",sum_cube)\n"
      ],
      "metadata": {
        "colab": {
          "base_uri": "https://localhost:8080/"
        },
        "id": "U_et2laCs1RM",
        "outputId": "e982240a-1793-42e6-ff80-f15ad549a9cc"
      },
      "execution_count": null,
      "outputs": [
        {
          "output_type": "stream",
          "name": "stdout",
          "text": [
            "Perfect Square:  [1, 4, 9, 16, 25, 36, 49, 64, 81, 100, 121, 144, 169, 196]\n",
            "Perfect Square:  [1, 8, 27, 64, 125]\n",
            "Sum of Perfect Square:  1015\n",
            "Sum of Perfect Cube:  225\n"
          ]
        }
      ]
    },
    {
      "cell_type": "code",
      "source": [
        "# Count the Occurance of each word\n",
        "\n",
        "st1 = \"\"\"What is SQL and why is it important in data science and explain the difference between a database and a table.\"\"\"\n",
        "\n",
        "word_counts = {}\n",
        "words = st1.lower().split()\n",
        "\n",
        "for word in words:\n",
        "  if word in word_counts:\n",
        "    word_counts[word] += 1\n",
        "  else:\n",
        "    word_counts[word] = 1\n",
        "\n",
        "for word, count in word_counts.items():\n",
        "  print(f\"{word}: {count}\")\n",
        "\n"
      ],
      "metadata": {
        "colab": {
          "base_uri": "https://localhost:8080/"
        },
        "id": "ACKPr8gBqAhH",
        "outputId": "a63d1ea1-7e25-4714-a3a2-aec7aa51eba3"
      },
      "execution_count": null,
      "outputs": [
        {
          "output_type": "stream",
          "name": "stdout",
          "text": [
            "what: 1\n",
            "is: 2\n",
            "sql: 1\n",
            "and: 3\n",
            "why: 1\n",
            "it: 1\n",
            "important: 1\n",
            "in: 1\n",
            "data: 1\n",
            "science: 1\n",
            "explain: 1\n",
            "the: 1\n",
            "difference: 1\n",
            "between: 1\n",
            "a: 2\n",
            "database: 1\n",
            "table.: 1\n"
          ]
        }
      ]
    },
    {
      "cell_type": "code",
      "source": [
        "d = {}\n",
        "for i in st1.split():\n",
        "  if i not in d:\n",
        "    d[i]=1\n",
        "    else:\n",
        "      d[i]+=1\n"
      ],
      "metadata": {
        "id": "jRmqRL9O29zz"
      },
      "execution_count": null,
      "outputs": []
    },
    {
      "cell_type": "code",
      "source": [
        "for i in st1.split():\n",
        "  print(i,st1.count(i))"
      ],
      "metadata": {
        "id": "qGh2FZ6M3rFy"
      },
      "execution_count": null,
      "outputs": []
    },
    {
      "cell_type": "code",
      "source": [
        "# Print the longest name from the list with the no. of letters ex:- \"archit : 6\"\n",
        "\n",
        "Name = [\"Akankaha\",\"Archit\",\"Aryan\",\"Kanika\",\"Lomash\",\"Tushar\",\"Vinit\"]\n",
        "longest_name = max(Name, key=len)\n",
        "print(\"The longest name is:\", longest_name)"
      ],
      "metadata": {
        "id": "rPkB2jV1qAey"
      },
      "execution_count": null,
      "outputs": []
    },
    {
      "cell_type": "code",
      "source": [
        "# Print all the name from the list with the no. of letters ex:- \"archit : 6\"\n",
        "\n",
        "Name = [\"Akankaha\",\"Archit\",\"Aryan\",\"Kanika\",\"Lomash\",\"Tushar\",\"Vinit\"]\n",
        "for i in Name:\n",
        "  print(i,\":\", len(i))"
      ],
      "metadata": {
        "id": "qI-TEVVsqAZC"
      },
      "execution_count": null,
      "outputs": []
    },
    {
      "cell_type": "code",
      "source": [
        "# Print all the name from the list with the no. of letters ex:- \"archit : 6\"\n",
        "\n",
        "Name = [\"Akankaha\",\"Archit\",\"Aryan\",\"Kanika\",\"Lomash\",\"Tushar\",\"Vinit\"]\n",
        "\n",
        "max(names,key=len)"
      ],
      "metadata": {
        "id": "rxG0Re534UL5"
      },
      "execution_count": null,
      "outputs": []
    },
    {
      "cell_type": "code",
      "source": [
        "n = \"\"\n",
        "for i in names:\n",
        "  if len(i)>len(n):\n",
        "    n=i\n",
        "    print(n)"
      ],
      "metadata": {
        "id": "b0uce9B84h8J"
      },
      "execution_count": null,
      "outputs": []
    },
    {
      "cell_type": "code",
      "source": [
        "# Create the satr patter"
      ],
      "metadata": {
        "id": "md0ILXPJqAQ4"
      },
      "execution_count": null,
      "outputs": []
    },
    {
      "cell_type": "code",
      "source": [],
      "metadata": {
        "id": "bjl8wC072X4v"
      },
      "execution_count": null,
      "outputs": []
    },
    {
      "cell_type": "code",
      "source": [],
      "metadata": {
        "id": "H2Ckq_oH2X2Z"
      },
      "execution_count": null,
      "outputs": []
    },
    {
      "cell_type": "code",
      "source": [],
      "metadata": {
        "id": "3iKM9qyz2Xz1"
      },
      "execution_count": null,
      "outputs": []
    },
    {
      "cell_type": "code",
      "source": [],
      "metadata": {
        "id": "DqIY89hW2XtR"
      },
      "execution_count": null,
      "outputs": []
    },
    {
      "cell_type": "code",
      "source": [],
      "metadata": {
        "id": "Mu55O2MV543q"
      },
      "execution_count": null,
      "outputs": []
    }
  ]
}